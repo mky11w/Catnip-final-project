{
 "cells": [
  {
   "cell_type": "markdown",
   "metadata": {},
   "source": [
    "# What is the best neighborhood in Pittsburgh?\n",
    "##### By Team Catnip🌿\n",
    "##### Makayla Chang & Dylan Dimond & Tingxu chen"
   ]
  },
  {
   "cell_type": "markdown",
   "metadata": {},
   "source": [
    "### **1. Our Metric**\n",
    "We used three datasets — **police arrest data** , **311 call data** , and **Allegheny County assets data** —to evaluate neighborhood quality across Pittsburgh. These datasets capture three *key components* of what we define as the \"best\" neighborhoods: **safety** , **low complaint volume** , and  **access to public assets that support community well-being** . Each submetric is scored on a **100-point scale**, and the final score for each neighborhood is calculated as the **average** of the three submetrics."
   ]
  },
  {
   "cell_type": "markdown",
   "metadata": {},
   "source": [
    "### **2. Submetric-1: Police Arrest Data**\n",
    "### *2.1 What is the dataset about?*\n",
    "The Pittsburgh Police Arrest Data provides detailed information on individuals taken into custody by City of Pittsburgh police officers. It includes data such as age, gender, race, arrest time and location, offenses, and neighborhood-level incident details. The dataset covers arrests from March 11, 1998, to November 14, 2023, after which it ceased updating due to a transition to a new records management system. ​\n",
    "### *2.2 Why did we choose the police arrest data?*\n",
    "We selected the police arrest data because it offers a direct measure of public safety within neighborhoods. Arrest records, especially for serious offenses, reflect areas where law enforcement activity is concentrated, indicating potential safety concerns. Analyzing this data helps identify patterns and trends in criminal activity, which are crucial for assessing neighborhood safety.​\n",
    "WPRDC Data\n",
    "### *2.3 How does it contribute to the final score?*\n",
    "In our neighborhood evaluation metric, the police arrest data serves as the \"safety\" submetric. We calculate a score based on the frequency and severity of arrests in each neighborhood, normalized on a 100-point scale. This safety score is then averaged with scores from other submetrics—such as 311 call data and public assets data—to derive the final overall score for each neighborhood.\n",
    "### *2.4 Result for submetric-1*\n"
   ]
  },
  {
   "cell_type": "code",
   "execution_count": 5,
   "metadata": {},
   "outputs": [
    {
     "name": "stdout",
     "output_type": "stream",
     "text": [
      "    Unnamed: 0 INCIDENTNEIGHBORHOOD  ARREST_COUNT      score\n",
      "0           18    Central Northside            23  99.654031\n",
      "1           64            Ridgemont            37  99.443442\n",
      "2           63        Regent Square            37  99.443442\n",
      "3           52        New Homestead            39  99.413357\n",
      "4           79       Swisshelm Park            43  99.353189\n",
      "5           25        East Carnegie            48  99.277978\n",
      "6           75            St. Clair            55  99.172684\n",
      "7           78          Summer Hill            76  98.856799\n",
      "8           56              Oakwood            82  98.766546\n",
      "9           35                 Hays           120  98.194946\n",
      "10          87              Windgap           124  98.134777\n"
     ]
    }
   ],
   "source": [
    "import pandas as pd\n",
    "result_1 = pd.read_csv(\"Dylan - Arrest Analysis/result.csv\")\n",
    "print(result_1.head(11))"
   ]
  },
  {
   "cell_type": "markdown",
   "metadata": {},
   "source": [
    "### *2.5 Discussion for submetrix-1*\n",
    "We calculated a safety score for each neighborhood using the formula \n",
    "((6648−arrest count)/6648)×100, where 6648 is an adjusted total (about 10% of the overall arrest count) used to amplify differences between neighborhoods. This approach gives higher scores to areas with fewer arrests, helping highlight variations in safety more clearly. For example, Central Northside, with just 23 arrests, scores 99.65, while Hays, with 120 arrests, scores 98.19—demonstrating how even moderate differences in arrest counts affect the ranking under this scaled metric.\n"
   ]
  },
  {
   "cell_type": "markdown",
   "metadata": {},
   "source": [
    "### **3. Submetric-2: 311 Data**\n",
    "### *3.1 What is the dataset about?*\n",
    "The Pittsburgh 311 Data comprises service requests submitted by residents to the City's 311 Response Center. These requests, collected via phone calls, emails, tweets, the city website, and a mobile application, encompass a range of non-emergency issues such as potholes, graffiti, and streetlight outages. Each entry includes details like request type, submission method, status, assigned department, and neighborhood location. The dataset covers requests from April 20, 2015, to February 4, 2025, after which updates ceased due to a system transition.\n",
    "### *3.2 Why did we choose the police arrest data?*\n",
    "We selected the 311 data because it offers direct insight into residents' concerns and the responsiveness of city services. A higher volume of 311 requests in a neighborhood may indicate underlying issues affecting quality of life or a more engaged community actively reporting problems. Analyzing this data helps identify areas where public services may need improvement or where community engagement is particularly strong.\n",
    "### *3.3 How does it contribute to the final score?*\n",
    "In our evaluation, the 311 data serves as the \"community concern\" submetric. We calculate a score for each neighborhood based on the number of 311 requests, normalizing the data to a 100-point scale where fewer requests result in a higher score. This score is then averaged with other submetrics, such as police arrest data and public assets data, to determine the neighborhood's overall quality score.\n",
    "### *3.4 Result for submetric-2*"
   ]
  },
  {
   "cell_type": "code",
   "execution_count": 4,
   "metadata": {},
   "outputs": [
    {
     "name": "stdout",
     "output_type": "stream",
     "text": [
      "                 hood  request_count  score\n",
      "0            Sheraden              2  99.93\n",
      "1              Esplen              2  99.93\n",
      "2           Fairywood              2  99.93\n",
      "3       New Homestead              3  99.90\n",
      "4                Hays              3  99.90\n",
      "5            Westwood              4  99.87\n",
      "6            West End              4  99.87\n",
      "7             Elliott              5  99.83\n",
      "8             Windgap              5  99.83\n",
      "9       Homewood West              6  99.80\n",
      "10  Arlington Heights              6  99.80\n"
     ]
    }
   ],
   "source": [
    "result_2 = pd.read_csv(\"Makayla - 311 data analysis/311_counts_by_neighborhood.csv\")\n",
    "print(result_2.head(11))"
   ]
  },
  {
   "cell_type": "markdown",
   "metadata": {},
   "source": [
    "### *3.5 Discussion for submetric-2*\n",
    "The 311 request scores provide valuable insight into perceived quality of life across Pittsburgh neighborhoods. Neighborhoods like Sheraden, Esplen, and Fairywood, which had very few reported service issues, scored at the top, suggesting relatively low levels of public concern or disruption. Notably, New Homestead also scored high in this analysis — consistent with its strong performance in the police arrest dataset — reinforcing the reliability and alignment of our results. We used the same method as in the police arrest metric, applying the formula score = ((2982−request_count)/2982)×100 to emphasize differences across neighborhoods and capture the relative scale of reported issues."
   ]
  }
 ],
 "metadata": {
  "kernelspec": {
   "display_name": "Python 3",
   "language": "python",
   "name": "python3"
  },
  "language_info": {
   "codemirror_mode": {
    "name": "ipython",
    "version": 3
   },
   "file_extension": ".py",
   "mimetype": "text/x-python",
   "name": "python",
   "nbconvert_exporter": "python",
   "pygments_lexer": "ipython3",
   "version": "3.12.6"
  }
 },
 "nbformat": 4,
 "nbformat_minor": 2
}
