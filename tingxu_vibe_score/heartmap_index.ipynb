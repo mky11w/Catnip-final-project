{
 "cells": [
  {
   "cell_type": "markdown",
   "id": "8e73ae66",
   "metadata": {},
   "source": [
    "# Heartmap Index\n",
    "\n",
    "- Heartmap Index is a community rating index that finds \"a place you want to live in for a while, or even stay\".\n",
    "- We analyze whether a community has \"a sense of life\" from four aspects:\n",
    "  - `Tastescape Score`Is it good to eat and shop?\n",
    "  - `Inspiration Index` Can it inspire inspiration?\n",
    "  - `Romance Quotient` Is it romantic?\n",
    "  - `Night Pulse` Is the night still gentle?"
   ]
  },
  {
   "cell_type": "code",
   "execution_count": 20,
   "id": "d40ab6a8",
   "metadata": {},
   "outputs": [],
   "source": [
    "import pandas as pd"
   ]
  }
 ],
 "metadata": {
  "kernelspec": {
   "display_name": "cs10",
   "language": "python",
   "name": "python3"
  },
  "language_info": {
   "codemirror_mode": {
    "name": "ipython",
    "version": 3
   },
   "file_extension": ".py",
   "mimetype": "text/x-python",
   "name": "python",
   "nbconvert_exporter": "python",
   "pygments_lexer": "ipython3",
   "version": "3.7.16"
  }
 },
 "nbformat": 4,
 "nbformat_minor": 5
}
