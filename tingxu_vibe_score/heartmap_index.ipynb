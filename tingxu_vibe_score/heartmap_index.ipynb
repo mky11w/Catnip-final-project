{
 "cells": [
  {
   "cell_type": "markdown",
   "id": "8e73ae66",
   "metadata": {},
   "source": [
    "# Heartmap Index\n",
    "\n",
    "- Heartmap Index is a community rating index that finds \"a place you want to live in for a while, or even stay\".\n",
    "- We analyze whether a community has \"a sense of life\" from four aspects:\n",
    "  - `Tastescape Score`Is it good to eat and shop?\n",
    "  - `Inspiration Index` Can it inspire inspiration?\n",
    "  - `Romance Quotient` Is it romantic? (Optional)\n",
    "  - `Night Pulse` Is the night still gentle? (Optional)"
   ]
  },
  {
   "cell_type": "code",
   "execution_count": 12,
   "id": "d40ab6a8",
   "metadata": {},
   "outputs": [
    {
     "name": "stdout",
     "output_type": "stream",
     "text": [
      "                   hood  tastescape_score  inspiration_index\n",
      "0             Shadyside          1.000000           0.595983\n",
      "1   Squirrel Hill South          0.928821           0.715873\n",
      "2      South Side Flats          0.914375           0.714018\n",
      "3            Bloomfield          0.905355           0.573994\n",
      "4        Strip District          0.861419           0.501451\n",
      "..                  ...               ...                ...\n",
      "84        New Homestead          0.000000           0.075613\n",
      "85            Fairywood          0.000000           0.071584\n",
      "86           Glen Hazel          0.000000           0.045019\n",
      "87          Summer Hill          0.000000           0.000000\n",
      "88            St. Clair          0.000000           0.000000\n",
      "\n",
      "[89 rows x 3 columns]\n"
     ]
    }
   ],
   "source": [
    "import pandas as pd\n",
    "import numpy as np\n",
    "\n",
    "# Calculate the final score for each aspect\n",
    "tastescape_scores = pd.read_csv('data_score/tastescape_scores.csv')\n",
    "inspiration_index = pd.read_csv('data_score/inspiration_index.csv')\n",
    "\n",
    "# merge tastescape_scores and inspiration_index\n",
    "\n",
    "# inspiration_index alse have hood\n",
    "final_scores = tastescape_scores[['hood', 'score']].rename(columns={'score': 'tastescape_score'})\n",
    "\n",
    "# merge inspiration\n",
    "final_scores = final_scores.merge(\n",
    "    inspiration_index[['hood', 'score']].rename(columns={'score': 'inspiration_index'}),\n",
    "    on='hood',\n",
    "    how='outer'\n",
    ")\n",
    "\n",
    "# Fill NaN values with 0 for inspiration_index\n",
    "final_scores['tastescape_score'] = final_scores['tastescape_score'].fillna(0)\n",
    "final_scores['inspiration_index'] = final_scores['inspiration_index'].fillna(0)\n",
    "\n",
    "print(final_scores)\n"
   ]
  },
  {
   "cell_type": "code",
   "execution_count": 13,
   "id": "8def9610",
   "metadata": {},
   "outputs": [
    {
     "name": "stdout",
     "output_type": "stream",
     "text": [
      "                        hood  heartmap_score\n",
      "0  Central Business District        0.916468\n",
      "1        Squirrel Hill South        0.843642\n",
      "2                  Shadyside        0.838393\n",
      "3           South Side Flats        0.834232\n",
      "4              North Oakland        0.834229\n",
      "5                 Bloomfield        0.772811\n",
      "6               East Liberty        0.738592\n",
      "7             Strip District        0.717432\n",
      "8                  Brookline        0.609992\n",
      "9           Allegheny Center        0.568461\n"
     ]
    }
   ],
   "source": [
    "final_scores['heartmap_score'] = (\n",
    "    0.6 * final_scores['tastescape_score'] +\n",
    "    0.4 * final_scores['inspiration_index']\n",
    ")\n",
    "# sort the final scores in descending order\n",
    "final_scores = final_scores.sort_values(by='heartmap_score', ascending=False)\n",
    "# reset the index\n",
    "final_scores = final_scores.reset_index(drop=True)\n",
    "#print the final scores\n",
    "print(final_scores[['hood', 'heartmap_score']].head(10))\n",
    "final_scores[['hood', 'heartmap_score']].to_csv('./tingxu_final_score.csv')"
   ]
  },
  {
   "cell_type": "markdown",
   "id": "77a1689c",
   "metadata": {},
   "source": [
    "## Conclusion\n",
    "\n",
    "### Winner\n",
    "\n",
    "- We can see the best place is `Central Business District`, which is `Downtown` in Pittsburgh, Pennsylvania.\n",
    "\n",
    "#### Central Business District (CBD / Downtown)\n",
    "\n",
    "- It's the core area of ​​Pittsburgh, integrating business, culture, art and transportation.\n",
    "- It's featured by high-density restaurants, cafes, theaters, art galleries, libraries, parks and squares are staggered, pedestrian-friendly, and public transportation is convenient\n",
    "- It's also full of urban rhythm and cultural tension. It is the first choice for exploring the city, experiencing life, and inspiring creative inspiration\n",
    "- `Central Business District` has great urban charm and cultural depth. It is a \"full-dimensional full-score player\" and deserves to be ranked first in my scoring model.\n",
    "\n",
    "### Loser\n",
    "- `Summer Hill` and `St. Clair` got the lowest score. However, they are not bad places to live in.\n",
    "\n",
    "#### Summer Hill\n",
    "\n",
    "- It's a quiet, green northern residential community\n",
    "- Mainly single-family homes from the mid-20th century, with a strong family atmosphere and a clean environment\n",
    "- Weaknesses: Lack of commercial, cultural, and entertainment facilities. There are almost no restaurants, cafes, libraries, and parks, and the nightlife and art atmosphere are extremely weak.\n",
    "- In summary, this is an area suitable for families who value tranquility and drive to work. But it is almost unattractive to people who love urban vitality and artistic life\n",
    "\n",
    "#### St. Clair\n",
    "\n",
    "- A southern fringe community with a long history but scarce resources\n",
    "- Once a large public housing area, it is now mostly low-density residential, and the urban farm reconstruction plan (Hilltop Urban Farm) is being promoted\n",
    "- Weaknesses: Serious lack of urban functions, almost no catering, art, education and entertainment facilities; inconvenient transportation and lagging development\n",
    "- It is still in a period of transition, with extremely low living convenience, and lacks appeal to most residents and tourists."
   ]
  },
  {
   "cell_type": "markdown",
   "id": "9be67a71",
   "metadata": {},
   "source": [
    "## **Reflection — What This Heart Beat Score Tells Us**\n",
    "> *An index of what stays with you after everything else is measured.*  \n",
    "\n",
    "This submetric captures more than just physical infrastructure —  \n",
    "it reflects the emotional temperature of a neighborhood.  \n",
    "\n",
    "While other parts of our evaluation focus on functionality and safety,  \n",
    "this section asks a different question:  \n",
    "**When everything in a city “works,” what makes it worth staying?**  \n",
    "We wanted to know:  \n",
    "**Have the ones who are truly alive found warmth somewhere in the city?**  \n",
    "\n",
    "That’s why we focused on libraries, coffee shops, art galleries, grocery stores, and intimate public spaces —  \n",
    "places that aren’t essential for survival, but vital for **vitality**.  \n",
    "These spaces aren’t about efficiency, but about presence.  \n",
    "Not about maintenance, but **about meaning**.  \n",
    "\n",
    "We didn’t choose to count the cracks —  \n",
    "we chose to follow where the light falls.  \n",
    "It isn’t clinical, but it moves.  \n",
    "It doesn’t ask to be fixed — it asks to be entered.  \n",
    "It doesn’t want solutions - it wants your footsteps.  \n",
    "It's not a report.  \n",
    "It’s a love letter to the city.\n",
    "\n",
    "We care about upper light —  \n",
    "the slant of sun through a crack in the ceiling,  \n",
    "the quiet café that stumbles into your day,  \n",
    "the moment in a library when a page makes you feel gently held by the world.  \n",
    "\n",
    "So yes, this score is subjective **within the objective**.  \n",
    "But that’s the point.  \n",
    "We don’t believe life is just balance and repair.  \n",
    "We’re not satisfied with “equitable distribution.”  \n",
    "**We believe a city worth living in must have unreasonable passion,**  \n",
    "**excessive beauty,**  \n",
    "and a little dream that makes no sense —  \n",
    "**except to make you stay.**  \n",
    "\n",
    "And if someone questions our method,  \n",
    "we’ll simply say:  \n",
    "**That’s because you’ve never seen sunlight through a wine glass.**  \n",
    "**And probably never paused long enough to taste it.**  \n",
    "\n",
    "**We lit a fire in the desert of data.**  \n",
    "**We made a report glow.**  \n",
    "**We wrote life into a spreadsheet — and then,**  \n",
    "**it began to boil.**"
   ]
  }
 ],
 "metadata": {
  "kernelspec": {
   "display_name": "cs10",
   "language": "python",
   "name": "python3"
  },
  "language_info": {
   "codemirror_mode": {
    "name": "ipython",
    "version": 3
   },
   "file_extension": ".py",
   "mimetype": "text/x-python",
   "name": "python",
   "nbconvert_exporter": "python",
   "pygments_lexer": "ipython3",
   "version": "3.7.16"
  }
 },
 "nbformat": 4,
 "nbformat_minor": 5
}
