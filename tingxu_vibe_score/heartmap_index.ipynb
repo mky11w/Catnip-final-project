{
 "cells": [
  {
   "cell_type": "markdown",
   "id": "8e73ae66",
   "metadata": {},
   "source": [
    "# Heartmap Index\n",
    "\n",
    "- Heartmap Index is a community rating index that finds \"a place you want to live in for a while, or even stay\".\n",
    "- We analyze whether a community has \"a sense of life\" from four aspects:\n",
    "  - `Tastescape Score`Is it good to eat and shop?\n",
    "  - `Inspiration Index` Can it inspire inspiration?\n",
    "  - `Romance Quotient` Is it romantic? (Optional)\n",
    "  - `Night Pulse` Is the night still gentle? (Optional)"
   ]
  },
  {
   "cell_type": "code",
   "execution_count": 1,
   "id": "d40ab6a8",
   "metadata": {},
   "outputs": [
    {
     "name": "stdout",
     "output_type": "stream",
     "text": [
      "   zip_code  tastescape_score  inspiration_index\n",
      "0     15222          1.000000           0.473461\n",
      "1     15237          0.717526           0.000000\n",
      "2     15212          0.653608           1.000000\n",
      "3     15146          0.560825           0.000000\n",
      "4     15213          0.558763           0.817410\n",
      "5     15205          0.544330           0.314225\n",
      "6     15206          0.498969           0.745223\n",
      "7     15108          0.470103           0.000000\n",
      "8     15217          0.463918           0.651805\n",
      "9     15219          0.457732           0.847134\n"
     ]
    }
   ],
   "source": [
    "import pandas as pd\n",
    "import numpy as np\n",
    "\n",
    "# Calculate the final score for each aspect\n",
    "tastescape_scores = pd.read_csv('data_score/tastescape_scores.csv')\n",
    "inspiration_index = pd.read_csv('data_score/inspiration_index.csv')\n",
    "\n",
    "# merge tastescape_scores and inspiration_index\n",
    "\n",
    "# inspiration_index alse have zip_code\n",
    "final_scores = tastescape_scores[['zip_code', 'score']].rename(columns={'score': 'tastescape_score'})\n",
    "\n",
    "# merge inspiration\n",
    "final_scores = final_scores.merge(\n",
    "    inspiration_index[['zip_code', 'score']].rename(columns={'score': 'inspiration_index'}),\n",
    "    on='zip_code',\n",
    "    how='left'\n",
    ")\n",
    "\n",
    "# Fill NaN values with 0 for inspiration_index\n",
    "final_scores['inspiration_index'] = final_scores['inspiration_index'].fillna(0)\n",
    "\n",
    "print(final_scores.head(10))\n"
   ]
  },
  {
   "cell_type": "code",
   "execution_count": 2,
   "id": "8def9610",
   "metadata": {},
   "outputs": [
    {
     "name": "stdout",
     "output_type": "stream",
     "text": [
      "   zip_code  heartmap_score\n",
      "0     15212        0.792165\n",
      "1     15222        0.789384\n",
      "2     15213        0.662222\n",
      "3     15219        0.613493\n",
      "4     15206        0.597471\n",
      "5     15217        0.539072\n",
      "6     15205        0.452288\n",
      "7     15237        0.430515\n",
      "8     15146        0.336495\n",
      "9     15203        0.334582\n"
     ]
    }
   ],
   "source": [
    "final_scores['heartmap_score'] = (\n",
    "    0.6 * final_scores['tastescape_score'] +\n",
    "    0.4 * final_scores['inspiration_index']\n",
    ")\n",
    "# sort the final scores in descending order\n",
    "final_scores = final_scores.sort_values(by='heartmap_score', ascending=False)\n",
    "# reset the index\n",
    "final_scores = final_scores.reset_index(drop=True)\n",
    "#print the final scores\n",
    "print(final_scores[['zip_code', 'heartmap_score']].head(10))"
   ]
  },
  {
   "cell_type": "markdown",
   "id": "77a1689c",
   "metadata": {},
   "source": [
    "### Conclusion\n",
    "\n",
    "- We can see the best two places are `15212` and `15222`, which are `North Side` and `Downtown` in Pittsburgh, Pennsylvania.\n",
    "- The second two best places are `15213` and `15219`, which are `Oakland` and `Strip District`\n",
    "- The last two places are `15206` and `15217`, which are `East Liberty` and `Squirrel Hill`\n",
    "\n",
    "- I will post the link of the places\n",
    "  - [North Side](https://zipcodes.org/15212-zip-code/)\n",
    "  - [Downtown](https://zipcodes.org/15222-zip-code/)\n",
    "  - [Oakland](https://zipcodes.org/15213-zip-code/)\n",
    "  - [Strip District](https://zipcodes.org/15219-zip-code/)\n",
    "  - [East Liberty](https://zipcodes.org/15206-zip-code/)\n",
    "  - [Squirrel Hill](https://zipcodes.org/15217-zip-code/)"
   ]
  }
 ],
 "metadata": {
  "kernelspec": {
   "display_name": "Python 3",
   "language": "python",
   "name": "python3"
  },
  "language_info": {
   "codemirror_mode": {
    "name": "ipython",
    "version": 3
   },
   "file_extension": ".py",
   "mimetype": "text/x-python",
   "name": "python",
   "nbconvert_exporter": "python",
   "pygments_lexer": "ipython3",
   "version": "3.12.1"
  }
 },
 "nbformat": 4,
 "nbformat_minor": 5
}
