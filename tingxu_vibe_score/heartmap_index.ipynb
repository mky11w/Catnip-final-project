{
 "cells": [
  {
   "cell_type": "markdown",
   "id": "8e73ae66",
   "metadata": {},
   "source": [
    "# Heartmap Index\n",
    "\n",
    "- Heartmap Index is a community rating index that finds \"a place you want to live in for a while, or even stay\".\n",
    "- We analyze whether a community has \"a sense of life\" from four aspects:\n",
    "  - `Tastescape Score`Is it good to eat and shop?\n",
    "  - `Inspiration Index` Can it inspire inspiration?\n",
    "  - `Romance Quotient` Is it romantic? (Optional)\n",
    "  - `Night Pulse` Is the night still gentle? (Optional)"
   ]
  },
  {
   "cell_type": "code",
   "execution_count": 6,
   "id": "d40ab6a8",
   "metadata": {},
   "outputs": [
    {
     "name": "stdout",
     "output_type": "stream",
     "text": [
      "                   hood  tastescape_score  inspiration_index\n",
      "0             Shadyside          1.000000           0.595983\n",
      "1   Squirrel Hill South          0.928821           0.715873\n",
      "2      South Side Flats          0.914375           0.714018\n",
      "3            Bloomfield          0.905355           0.573994\n",
      "4        Strip District          0.861419           0.501451\n",
      "..                  ...               ...                ...\n",
      "84        New Homestead          0.000000           0.075613\n",
      "85            Fairywood          0.000000           0.071584\n",
      "86           Glen Hazel          0.000000           0.045019\n",
      "87          Summer Hill          0.000000           0.000000\n",
      "88            St. Clair          0.000000           0.000000\n",
      "\n",
      "[89 rows x 3 columns]\n"
     ]
    }
   ],
   "source": [
    "import pandas as pd\n",
    "import numpy as np\n",
    "\n",
    "# Calculate the final score for each aspect\n",
    "tastescape_scores = pd.read_csv('data_score/tastescape_scores.csv')\n",
    "inspiration_index = pd.read_csv('data_score/inspiration_index.csv')\n",
    "\n",
    "# merge tastescape_scores and inspiration_index\n",
    "\n",
    "# inspiration_index alse have hood\n",
    "final_scores = tastescape_scores[['hood', 'score']].rename(columns={'score': 'tastescape_score'})\n",
    "\n",
    "# merge inspiration\n",
    "final_scores = final_scores.merge(\n",
    "    inspiration_index[['hood', 'score']].rename(columns={'score': 'inspiration_index'}),\n",
    "    on='hood',\n",
    "    how='outer'\n",
    ")\n",
    "\n",
    "# Fill NaN values with 0 for inspiration_index\n",
    "final_scores['tastescape_score'] = final_scores['tastescape_score'].fillna(0)\n",
    "final_scores['inspiration_index'] = final_scores['inspiration_index'].fillna(0)\n",
    "\n",
    "print(final_scores)\n"
   ]
  },
  {
   "cell_type": "code",
   "execution_count": 7,
   "id": "8def9610",
   "metadata": {},
   "outputs": [
    {
     "name": "stdout",
     "output_type": "stream",
     "text": [
      "                        hood  heartmap_score\n",
      "0  Central Business District        0.916468\n",
      "1        Squirrel Hill South        0.843642\n",
      "2                  Shadyside        0.838393\n",
      "3           South Side Flats        0.834232\n",
      "4              North Oakland        0.834229\n",
      "5                 Bloomfield        0.772811\n",
      "6               East Liberty        0.738592\n",
      "7             Strip District        0.717432\n",
      "8                  Brookline        0.609992\n",
      "9           Allegheny Center        0.568461\n"
     ]
    }
   ],
   "source": [
    "final_scores['heartmap_score'] = (\n",
    "    0.6 * final_scores['tastescape_score'] +\n",
    "    0.4 * final_scores['inspiration_index']\n",
    ")\n",
    "# sort the final scores in descending order\n",
    "final_scores = final_scores.sort_values(by='heartmap_score', ascending=False)\n",
    "# reset the index\n",
    "final_scores = final_scores.reset_index(drop=True)\n",
    "#print the final scores\n",
    "print(final_scores[['hood', 'heartmap_score']].head(10))\n",
    "final_scores[['hood', 'heartmap_score']].to_csv('./tingxu_final_score.csv')"
   ]
  },
  {
   "cell_type": "markdown",
   "id": "77a1689c",
   "metadata": {},
   "source": [
    "### Conclusion\n",
    "\n",
    "- We can see the best place is `Central Business District`, which is `Downtown` in Pittsburgh, Pennsylvania.\n",
    "\n",
    "- I will post the link of the places\n",
    "  - [North Side](https://zipcodes.org/15212-zip-code/)\n",
    "  - [Downtown](https://zipcodes.org/15222-zip-code/)\n",
    "  - [Oakland](https://zipcodes.org/15213-zip-code/)\n",
    "  - [Strip District](https://zipcodes.org/15219-zip-code/)\n",
    "  - [East Liberty](https://zipcodes.org/15206-zip-code/)\n",
    "  - [Squirrel Hill](https://zipcodes.org/15217-zip-code/)"
   ]
  }
 ],
 "metadata": {
  "kernelspec": {
   "display_name": "cs10",
   "language": "python",
   "name": "python3"
  },
  "language_info": {
   "codemirror_mode": {
    "name": "ipython",
    "version": 3
   },
   "file_extension": ".py",
   "mimetype": "text/x-python",
   "name": "python",
   "nbconvert_exporter": "python",
   "pygments_lexer": "ipython3",
   "version": "3.7.16"
  }
 },
 "nbformat": 4,
 "nbformat_minor": 5
}
