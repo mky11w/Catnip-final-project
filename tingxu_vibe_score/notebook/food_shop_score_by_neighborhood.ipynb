{
 "cells": [
  {
   "cell_type": "markdown",
   "id": "cd1cb165",
   "metadata": {},
   "source": [
    "## Food and Shop Score\n",
    "\n",
    "- This notebook is to clean the Licence data and get food&shop score by neighborhood"
   ]
  },
  {
   "cell_type": "markdown",
   "id": "efa9b6ff",
   "metadata": {},
   "source": [
    "### Step 1\n",
    "\n",
    "- Load data and get columns name"
   ]
  },
  {
   "cell_type": "code",
   "execution_count": 15,
   "id": "60bb7c99",
   "metadata": {},
   "outputs": [
    {
     "data": {
      "text/plain": [
       "(7548, 30)"
      ]
     },
     "execution_count": 15,
     "metadata": {},
     "output_type": "execute_result"
    }
   ],
   "source": [
    "import pandas as pd\n",
    "import matplotlib.pyplot as plt\n",
    "\n",
    "# Load the dataset\n",
    "business_df = pd.read_csv('../data/licensed_businesses_contractors_trades/business_licenses.csv')\n",
    "business_df.shape"
   ]
  },
  {
   "cell_type": "code",
   "execution_count": 16,
   "id": "3ec5a5c5",
   "metadata": {},
   "outputs": [
    {
     "name": "stdout",
     "output_type": "stream",
     "text": [
      "Index(['_id', 'license_number', 'license_type_name', 'naics_code',\n",
      "       'business_name', 'license_state', 'initial_issue_date',\n",
      "       'most_recent_issue_date', 'effective_date', 'expiration_date',\n",
      "       'parcel_number', 'address', 'email_address', 'primary_phone_number',\n",
      "       'insurance_expiration_date', 'number_of_buildings',\n",
      "       'number_of_employees', 'number_of_large_signs', 'number_of_small_signs',\n",
      "       'number_of_signs_total', 'number_of_handicap_spaces',\n",
      "       'number_of_nonleased_pub_spaces', 'number_of_revgen_spaces',\n",
      "       'total_number_of_spaces', 'number_of_jukeboxes',\n",
      "       'number_of_nongambling_machines', 'number_of_rooms', 'number_of_seats',\n",
      "       'number_of_pool_tables', 'number_of_units'],\n",
      "      dtype='object')\n"
     ]
    }
   ],
   "source": [
    "#获取数据集标签名称\n",
    "business_df.columns\n",
    "#打印标签\n",
    "print(business_df.columns)"
   ]
  },
  {
   "cell_type": "markdown",
   "id": "ad51aa1e",
   "metadata": {},
   "source": [
    "# Step 2\n",
    "\n",
    "- Get active business\n",
    "- Get business type that fits `Food & Shop`\n",
    "- Get business with name 'restaurant', 'cafe', 'coffee', 'bakery', 'grocery', 'market', 'bookstore'"
   ]
  },
  {
   "cell_type": "code",
   "execution_count": 17,
   "id": "ba5be94a",
   "metadata": {},
   "outputs": [
    {
     "data": {
      "text/plain": [
       "(725, 30)"
      ]
     },
     "execution_count": 17,
     "metadata": {},
     "output_type": "execute_result"
    }
   ],
   "source": [
    "active_df = business_df[business_df['license_state'] == 'Active']\n",
    "active_df.shape"
   ]
  },
  {
   "cell_type": "code",
   "execution_count": 18,
   "id": "4f339c6e",
   "metadata": {},
   "outputs": [
    {
     "name": "stdout",
     "output_type": "stream",
     "text": [
      "Rental Registration        216\n",
      "Parking Lot                184\n",
      "Child Care Registration    116\n",
      "Limited Towing              84\n",
      "Stationary Vendor           43\n",
      "Peddler                     34\n",
      "Mobile Vehicle Vendor       27\n",
      "Secondhand Dealer           21\n",
      "Name: license_type_name, dtype: int64\n"
     ]
    }
   ],
   "source": [
    "# 获取business类型list\n",
    "business_type_list = active_df['license_type_name'].unique()\n",
    "# 统计business类型数量\n",
    "business_type_count = active_df['license_type_name'].value_counts()\n",
    "# 打印business类型数量\n",
    "print(business_type_count)"
   ]
  },
  {
   "cell_type": "code",
   "execution_count": 24,
   "id": "4a865f26",
   "metadata": {},
   "outputs": [
    {
     "name": "stdout",
     "output_type": "stream",
     "text": [
      "Sign Maintenance Certification    198\n",
      "Peddler                            39\n",
      "Amusement Producer                 38\n",
      "Stationary Vendor                  24\n",
      "Mobile Vehicle Vendor              21\n",
      "Limited Towing                     20\n",
      "Mechanical Device                  14\n",
      "Parking Lot                         9\n",
      "Child Care Registration             5\n",
      "Secondhand Dealer                   4\n",
      "Trade Fair                          2\n",
      "Ticket Reseller                     1\n",
      "Amusement Place                     1\n",
      "Name: license_type_name, dtype: int64\n",
      "                                         business_name  \\\n",
      "40                                   SUBWAY RESTAURANT   \n",
      "59                   MILKY WAY DAIRY & VEG. RESTAURANT   \n",
      "84   PREMIER MARKETING INNOVATIONS INC FOR VERIZON ...   \n",
      "87                                         BURGER-KING   \n",
      "153                                     MIRIAM LEBARON   \n",
      "173                    SWEET TIME CAFE & GENERAL STORE   \n",
      "175                                           SPIN BAR   \n",
      "189                               GAETANO'S RESTAURANT   \n",
      "252                                    ANN'S MARKET #2   \n",
      "257                                    FIORIS PIZZARIA   \n",
      "327                                  CONICELLA'S PIZZA   \n",
      "328                        SOUTHSIDE STEAKS RESTAURANT   \n",
      "372                                     PIZZA CARE LLC   \n",
      "375                SUNOCO PARTNERS MARKETING & TERM LP   \n",
      "377                                           PITALAND   \n",
      "418                                   BARBARA GROSSMAN   \n",
      "422          RENEWAL BY ANDERSEN/MARKETING SALES LEADS   \n",
      "436                                PEANUTZ BAR & GRILL   \n",
      "460                                       RUSTY BARREL   \n",
      "517                                  Lemont Restaurant   \n",
      "\n",
      "                  license_type_name  \n",
      "40   Sign Maintenance Certification  \n",
      "59   Sign Maintenance Certification  \n",
      "84                          Peddler  \n",
      "87                   Limited Towing  \n",
      "153                         Peddler  \n",
      "173  Sign Maintenance Certification  \n",
      "175  Sign Maintenance Certification  \n",
      "189  Sign Maintenance Certification  \n",
      "252  Sign Maintenance Certification  \n",
      "257  Sign Maintenance Certification  \n",
      "327  Sign Maintenance Certification  \n",
      "328  Sign Maintenance Certification  \n",
      "372  Sign Maintenance Certification  \n",
      "375  Sign Maintenance Certification  \n",
      "377  Sign Maintenance Certification  \n",
      "418                      Trade Fair  \n",
      "422                         Peddler  \n",
      "436               Mechanical Device  \n",
      "460               Mechanical Device  \n",
      "517  Sign Maintenance Certification  \n"
     ]
    }
   ],
   "source": [
    "keywords = [\n",
    "    'restaurant', 'cafe', 'coffee', 'bakery', 'grocery', 'market', 'bookstore',\n",
    "    'deli', 'eatery', 'bistro', 'bar', 'kitchen', 'grill', 'noodle', 'ramen',\n",
    "    'bbq', 'burger', 'pizza', 'taco', 'pita', 'juice', 'tea', 'donut',\n",
    "    'panera', 'starbucks', 'chipotle', 'trader joe', 'whole foods'\n",
    "]\n",
    "# filtered_df = active_df[active_df['business_name'].str.contains('|'.join(keywords), case=False, na=False)]\n",
    "# filtered_df.shape\n",
    "filtered_df = business_df[business_df['business_name'].str.contains('|'.join(keywords), case=False, na=False)]\n",
    "filtered_df.shape\n",
    "# 统计business类型数量\n",
    "business_type_count = filtered_df['license_type_name'].value_counts()\n",
    "# 打印business类型数量\n",
    "print(business_type_count)\n",
    "# 打印前10个business的名称和类型\n",
    "print(filtered_df[['business_name', 'license_type_name']].head(20))"
   ]
  },
  {
   "cell_type": "markdown",
   "id": "93683fcd",
   "metadata": {},
   "source": [
    "### Step 3\n",
    "\n",
    "- Get business with address"
   ]
  },
  {
   "cell_type": "code",
   "execution_count": 28,
   "id": "1dd2a330",
   "metadata": {},
   "outputs": [
    {
     "name": "stdout",
     "output_type": "stream",
     "text": [
      "                         business_name  \\\n",
      "59   MILKY WAY DAIRY & VEG. RESTAURANT   \n",
      "87                         BURGER-KING   \n",
      "173    SWEET TIME CAFE & GENERAL STORE   \n",
      "189               GAETANO'S RESTAURANT   \n",
      "252                    ANN'S MARKET #2   \n",
      "\n",
      "                                        address  \n",
      "59       2120 MURRAY AVE, Pittsburgh, PA 15217-  \n",
      "87   2900 BROWNSVILLE RD, Pittsburgh, PA 15227-  \n",
      "173        501 E OHIO ST, Pittsburgh, PA 15212-  \n",
      "189   1601 BANKSVILLE RD, Pittsburgh, PA 15216-  \n",
      "252     2316 WEBSTER AVE, Pittsburgh, PA 15219-  \n"
     ]
    }
   ],
   "source": [
    "# 去除address为空值的行\n",
    "filtered_df = filtered_df[filtered_df['address'].notna()]\n",
    "# 打印前10个business的名称和地址\n",
    "print(filtered_df[['business_name', 'address']].head(5))"
   ]
  },
  {
   "cell_type": "code",
   "execution_count": 30,
   "id": "b60e8a9a",
   "metadata": {},
   "outputs": [
    {
     "name": "stdout",
     "output_type": "stream",
     "text": [
      "                           business_name zip_code\n",
      "59     MILKY WAY DAIRY & VEG. RESTAURANT    15217\n",
      "87                           BURGER-KING    15227\n",
      "173      SWEET TIME CAFE & GENERAL STORE    15212\n",
      "189                 GAETANO'S RESTAURANT    15216\n",
      "252                      ANN'S MARKET #2    15219\n",
      "257                      FIORIS PIZZARIA    15226\n",
      "327                    CONICELLA'S PIZZA    15207\n",
      "328          SOUTHSIDE STEAKS RESTAURANT    15203\n",
      "372                       PIZZA CARE LLC    15219\n",
      "375  SUNOCO PARTNERS MARKETING & TERM LP    15201\n"
     ]
    }
   ],
   "source": [
    "# 获取address末尾的数字zip code\n",
    "# zip code 为 address 最末尾的‘-’前的5位数字\n",
    "filtered_df['address'] = filtered_df['address'].str.rstrip('- ')\n",
    "# 提取zip code并添加到filtered_df中\n",
    "filtered_df['zip_code'] = filtered_df['address'].str.extract(r'(\\d{5})$')\n",
    "# 打印前10个business的名称和zip code\n",
    "print(filtered_df[['business_name', 'zip_code']].head(10))"
   ]
  },
  {
   "cell_type": "markdown",
   "id": "4c1992a5",
   "metadata": {},
   "source": [
    "### Step 4\n",
    "- Output the data to csv file"
   ]
  },
  {
   "cell_type": "code",
   "execution_count": 31,
   "id": "d9e801bd",
   "metadata": {},
   "outputs": [],
   "source": [
    "# 保存数据仅包括business_name，address和zip code\n",
    "filtered_df[['business_name', 'address', 'zip_code']].to_csv('../data_cleaned/food_and_shop.csv', index=False)"
   ]
  }
 ],
 "metadata": {
  "kernelspec": {
   "display_name": "cs10",
   "language": "python",
   "name": "python3"
  },
  "language_info": {
   "codemirror_mode": {
    "name": "ipython",
    "version": 3
   },
   "file_extension": ".py",
   "mimetype": "text/x-python",
   "name": "python",
   "nbconvert_exporter": "python",
   "pygments_lexer": "ipython3",
   "version": "3.7.16"
  }
 },
 "nbformat": 4,
 "nbformat_minor": 5
}
