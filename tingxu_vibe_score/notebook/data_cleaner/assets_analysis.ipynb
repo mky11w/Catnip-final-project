{
 "cells": [
  {
   "cell_type": "markdown",
   "id": "8d27c6ff",
   "metadata": {},
   "source": [
    "## Assets Analysis\n",
    "\n",
    "- This notebook is used to analyze the assedts"
   ]
  },
  {
   "cell_type": "markdown",
   "id": "cb0c18d7",
   "metadata": {},
   "source": [
    "### Step 1\n",
    "\n",
    "- Load the data\n",
    "- Check the data types"
   ]
  },
  {
   "cell_type": "code",
   "execution_count": 5,
   "id": "75e7d206",
   "metadata": {},
   "outputs": [
    {
     "name": "stdout",
     "output_type": "stream",
     "text": [
      "Index(['_id', 'name', 'asset_type', 'asset_id', 'tags', 'location_id',\n",
      "       'street_address', 'unit', 'unit_type', 'municipality', 'city', 'state',\n",
      "       'zip_code', 'latitude', 'longitude', 'parcel_id', 'residence',\n",
      "       'iffy_geocoding', 'available_transportation', 'parent_location_id',\n",
      "       'parent_location', 'url', 'email', 'phone', 'hours_of_operation',\n",
      "       'holiday_hours_of_operation', 'periodicity', 'capacity', 'wifi_network',\n",
      "       'internet_access', 'computers_available', 'accessibility',\n",
      "       'open_to_public', 'child_friendly', 'sensitive', 'do_not_display',\n",
      "       'localizability', 'services', 'hard_to_count_population',\n",
      "       'data_source_names', 'data_source_urls', 'organization_name',\n",
      "       'organization_phone', 'organization_email', 'etl_notes',\n",
      "       'geocoding_properties'],\n",
      "      dtype='object')\n"
     ]
    },
    {
     "name": "stderr",
     "output_type": "stream",
     "text": [
      "c:\\Users\\Eastlive\\anaconda3\\envs\\cs10\\lib\\site-packages\\IPython\\core\\interactiveshell.py:3457: DtypeWarning: Columns (9,18) have mixed types.Specify dtype option on import or set low_memory=False.\n",
      "  exec(code_obj, self.user_global_ns, self.user_ns)\n"
     ]
    }
   ],
   "source": [
    "import pandas as pd\n",
    "\n",
    "assets = pd.read_csv('../../data/allegheny_county_assets/all_allegheny_county_assets_for_the_asset_map.csv')\n",
    "# print the columns of the dataframe\n",
    "print(assets.columns)"
   ]
  },
  {
   "cell_type": "markdown",
   "id": "dc345d83",
   "metadata": {},
   "source": [
    "# Step 2\n",
    "\n",
    "- Analyze the asset_type"
   ]
  },
  {
   "cell_type": "code",
   "execution_count": 6,
   "id": "b22e147f",
   "metadata": {},
   "outputs": [
    {
     "name": "stdout",
     "output_type": "stream",
     "text": [
      "community_nonprofit_orgs    9306\n",
      "bus_stops                   6752\n",
      "restaurants                 3924\n",
      "faith-based_facilities      1209\n",
      "hair_salons                 1060\n",
      "schools                     1014\n",
      "apartment_buildings          942\n",
      "parks_and_facilities         827\n",
      "nursing_homes                702\n",
      "child_care_centers           646\n",
      "doctors_offices              607\n",
      "gas_stations                 428\n",
      "banks                        418\n",
      "public_art                   386\n",
      "bars                         385\n",
      "pharmacies                   331\n",
      "dentists                     285\n",
      "affordable_housing           284\n",
      "nail_salons                  257\n",
      "health_centers               256\n",
      "public_buildings             253\n",
      "barbers                      214\n",
      "hotels                       207\n",
      "coffee_shops                 187\n",
      "supermarkets                 139\n",
      "bike_share_stations          113\n",
      "farmers_markets               91\n",
      "libraries                     91\n",
      "wic_vendors                   91\n",
      "food_banks                    77\n",
      "laundromats                   69\n",
      "veterans_social_orgs          60\n",
      "social_clubs                  59\n",
      "universities                  54\n",
      "park_and_rides                52\n",
      "senior_centers                45\n",
      "museums                       44\n",
      "post_offices                  37\n",
      "family_support_centers        30\n",
      "rec_centers                   21\n",
      "achd_clinics                  16\n",
      "wic_offices                   11\n",
      "acha_community_sites          11\n",
      "va_facilities                  5\n",
      "homeless_shelters              5\n",
      "Name: asset_type, dtype: int64\n"
     ]
    }
   ],
   "source": [
    "asset_type_list = assets['asset_type'].unique()\n",
    "# rank by the number of assets\n",
    "asset_type_count = assets['asset_type'].value_counts()\n",
    "print(asset_type_count)"
   ]
  },
  {
   "cell_type": "markdown",
   "id": "6e7de308",
   "metadata": {},
   "source": [
    "### Step 3\n",
    "- Output the data with cleaned data columns and those types: 'restaurants', 'coffee_shops', 'supermarkets', 'public_art', 'museums', 'libraries', 'parks_and_facilities', 'bars', 'farmers_markets'"
   ]
  },
  {
   "cell_type": "code",
   "execution_count": null,
   "id": "fdeddefa",
   "metadata": {},
   "outputs": [
    {
     "name": "stdout",
     "output_type": "stream",
     "text": [
      "27    40.428220\n",
      "28    40.461896\n",
      "53    40.430010\n",
      "54    40.424874\n",
      "55    40.370020\n",
      "56    40.484179\n",
      "57    40.484348\n",
      "58    40.452213\n",
      "59    40.454506\n",
      "60    40.435622\n",
      "Name: latitude, dtype: float64\n"
     ]
    }
   ],
   "source": [
    "# there are something worng with \"parks_and_facilities\"\n",
    "filtered_parks = assets[assets['asset_type'] == 'parks_and_facilities']\n",
    "print(filtered_parks['latitude'].head(10))"
   ]
  },
  {
   "cell_type": "code",
   "execution_count": 13,
   "id": "b6d65556",
   "metadata": {},
   "outputs": [],
   "source": [
    "core_types = [\n",
    "    'restaurants', 'coffee_shops', 'supermarkets', 'public_art',\n",
    "    'museums', 'libraries', 'parks_and_facilities', 'bars', 'farmers_markets',\n",
    "    'bus_stops', 'community_nonprofit_orgs', 'faith-based_facilities'\n",
    "]\n",
    "\n",
    "for asset_type in core_types:\n",
    "    filtered_assets = assets[assets['asset_type'] == asset_type]\n",
    "\n",
    "    cleaned_asset_type = filtered_assets[['name', 'street_address', 'zip_code', 'latitude', 'longitude']].drop_duplicates()\n",
    "\n",
    "    # extract the first 5 digits of the zip code\n",
    "    cleaned_asset_type['zip_code'] = cleaned_asset_type['zip_code'].astype(str).str[:5]\n",
    "\n",
    "    file_link = f'../../data_cleaned/assets/{asset_type}.csv'\n",
    "    cleaned_asset_type.to_csv(file_link, index=False)"
   ]
  }
 ],
 "metadata": {
  "kernelspec": {
   "display_name": "cs10",
   "language": "python",
   "name": "python3"
  },
  "language_info": {
   "codemirror_mode": {
    "name": "ipython",
    "version": 3
   },
   "file_extension": ".py",
   "mimetype": "text/x-python",
   "name": "python",
   "nbconvert_exporter": "python",
   "pygments_lexer": "ipython3",
   "version": "3.7.16"
  }
 },
 "nbformat": 4,
 "nbformat_minor": 5
}
