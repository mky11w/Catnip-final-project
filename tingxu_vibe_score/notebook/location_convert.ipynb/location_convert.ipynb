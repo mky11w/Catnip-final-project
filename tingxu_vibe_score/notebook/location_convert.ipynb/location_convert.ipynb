{
 "cells": [
  {
   "cell_type": "markdown",
   "id": "69c2a71b",
   "metadata": {},
   "source": [
    "## Location Convert\n",
    "\n",
    "- This notebook convert `latitude` and `longitude` coordinates to `neighberhood` name in Pittsburgh\n",
    "- The data not in Pittsburgh will be deleted"
   ]
  },
  {
   "cell_type": "markdown",
   "id": "c2b36ab5",
   "metadata": {},
   "source": [
    "### Step 1\n",
    "\n",
    "- Import packages\n",
    "    - `pandas`\n",
    "    - `geopandas`\n",
    "- Use `pip install geopandas` to install if needed\n",
    "- Load dataset file\n",
    "- Check the first `10` data to make sure loading correctly"
   ]
  },
  {
   "cell_type": "code",
   "execution_count": 17,
   "id": "da8c013a",
   "metadata": {},
   "outputs": [
    {
     "name": "stdout",
     "output_type": "stream",
     "text": [
      "Number of restaurant: 3924\n",
      "    latitude  longitude\n",
      "0  40.305110 -79.976298\n",
      "1  40.445871 -79.993547\n",
      "2  40.366054 -80.106407\n",
      "3  40.600047 -79.761510\n",
      "4  40.384166 -79.859313\n",
      "5  40.408769 -79.904709\n",
      "6  40.540583 -80.182005\n",
      "7  40.464399 -79.966289\n",
      "8  40.407991 -79.943308\n",
      "9  40.432405 -79.893877\n"
     ]
    }
   ],
   "source": [
    "import pandas as pd\n",
    "import geopandas as gpd\n",
    "import matplotlib.pyplot as plt\n",
    "from shapely.geometry import Point\n",
    "\n",
    "rest_df = pd.read_csv('../../data_cleaned/assets/restaurants.csv')\n",
    "print(\"Number of restaurant:\", len(rest_df))\n",
    "print(rest_df[['latitude', 'longitude']].head(10))"
   ]
  },
  {
   "cell_type": "markdown",
   "id": "b0680b5b",
   "metadata": {},
   "source": [
    "### Step 2\n",
    "\n",
    "- Initial `geopandas` function"
   ]
  },
  {
   "cell_type": "code",
   "execution_count": 27,
   "id": "4ed0d160",
   "metadata": {},
   "outputs": [
    {
     "name": "stdout",
     "output_type": "stream",
     "text": [
      "Neighborhood Shapefile CRS EPSG:2272\n",
      "                                                 name  \\\n",
      "1             AC Hotel Level 7 Kitchen & Rooftop Bar    \n",
      "7   A Sweet Boutique by Bella Christie & Lilâ Zâs   \n",
      "8                                            61Z Cafe   \n",
      "11                    AFC Sushi @ Children's Hospital   \n",
      "12                   A's 2's / Ace's & Deuce's Lounge   \n",
      "14                                   A Taste Of India   \n",
      "17                                         941 Saloon   \n",
      "19                                   876 Island Spice   \n",
      "20                                   802 Bean Company   \n",
      "21                   77 Cafe' / Guckenheimer Services   \n",
      "\n",
      "                         hood  \n",
      "1              Strip District  \n",
      "7         Lower Lawrenceville  \n",
      "8                   Hazelwood  \n",
      "11      Central Lawrenceville  \n",
      "12                      Bluff  \n",
      "14                 Bloomfield  \n",
      "17  Central Business District  \n",
      "19                 East Hills  \n",
      "20                  Brookline  \n",
      "21           South Side Flats  \n"
     ]
    }
   ],
   "source": [
    "# Load files from Makay's workplace\n",
    "\n",
    "# Create point data frame\n",
    "geometry = [Point(xy) for xy in zip(rest_df['longitude'], rest_df['latitude'])]\n",
    "gdf_rest_points = gpd.GeoDataFrame(\n",
    "    rest_df,\n",
    "    geometry=geometry,\n",
    "    crs=\"EPSG:4326\"\n",
    ")\n",
    "\n",
    "# Load shapefile\n",
    "neighborhoods = gpd.read_file('../../../Makayla - 311 data analysis/Neighborhood boundaries/neighborhoods (1)/Neighborhoods_.shp')\n",
    "print(\"Neighborhood Shapefile CRS\", neighborhoods.crs)\n",
    "\n",
    "# Uniform coordinate systems\n",
    "# neighborhoods = neighborhoods.to_crs(gdf_rest_points.crs)\n",
    "gdf_rest_points = gdf_rest_points.to_crs(neighborhoods.crs)\n",
    "\n",
    "# Join spaces\n",
    "joined = gpd.sjoin(gdf_rest_points, neighborhoods, how='inner', predicate='within')\n",
    "\n",
    "# print(neighborhoods.columns)\n",
    "print(joined[['name', 'hood']].head(10))\n",
    "joined[['name', 'hood']].to_csv('../../data_cleaned/restaurants.csv', index=False)"
   ]
  },
  {
   "cell_type": "markdown",
   "id": "847b8a66",
   "metadata": {},
   "source": [
    "### Step 3\n",
    "\n",
    "- Draw a graph to see the disturbution of data points"
   ]
  },
  {
   "cell_type": "code",
   "execution_count": 28,
   "id": "15074c5e",
   "metadata": {},
   "outputs": [
    {
     "data": {
      "image/png": "[encoded data removed]",
      "text/plain": [
       "<Figure size 1200x1200 with 1 Axes>"
      ]
     },
     "metadata": {},
     "output_type": "display_data"
    }
   ],
   "source": [
    "figure, ax = plt.subplots(figsize=(12, 12))\n",
    "neighborhoods.plot(ax=ax, color='white', edgecolor='black')\n",
    "gdf_rest_points.plot(ax=ax, markersize=5, color='red', alpha=0.1)\n",
    "plt.title(\"Find the Restaurants\")\n",
    "plt.axis('off')\n",
    "plt.show()"
   ]
  }
 ],
 "metadata": {
  "kernelspec": {
   "display_name": "Python 3",
   "language": "python",
   "name": "python3"
  },
  "language_info": {
   "codemirror_mode": {
    "name": "ipython",
    "version": 3
   },
   "file_extension": ".py",
   "mimetype": "text/x-python",
   "name": "python",
   "nbconvert_exporter": "python",
   "pygments_lexer": "ipython3",
   "version": "3.12.1"
  }
 },
 "nbformat": 4,
 "nbformat_minor": 5
}
