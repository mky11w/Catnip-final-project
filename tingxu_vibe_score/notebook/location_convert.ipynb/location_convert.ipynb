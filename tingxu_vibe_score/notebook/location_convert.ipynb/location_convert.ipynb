{
 "cells": [
  {
   "cell_type": "markdown",
   "id": "69c2a71b",
   "metadata": {},
   "source": [
    "## Location Convert\n",
    "\n",
    "- This notebook convert `latitude` and `longitude` coordinates to `neighberhood` name in Pittsburgh\n",
    "- The data not in Pittsburgh will be deleted"
   ]
  },
  {
   "cell_type": "markdown",
   "id": "c2b36ab5",
   "metadata": {},
   "source": [
    "### Step 1\n",
    "\n",
    "- Import packages\n",
    "    - `pandas`\n",
    "    - `geopandas`\n",
    "- Use `pip install geopandas` to install if needed\n",
    "- Load dataset file\n",
    "- Check the first `10` data to make sure loading correctly"
   ]
  },
  {
   "cell_type": "code",
   "execution_count": 2,
   "id": "da8c013a",
   "metadata": {},
   "outputs": [
    {
     "name": "stdout",
     "output_type": "stream",
     "text": [
      "Number of restaurant: 3924\n",
      "    latitude  longitude\n",
      "0  40.305110 -79.976298\n",
      "1  40.445871 -79.993547\n",
      "2  40.366054 -80.106407\n",
      "3  40.600047 -79.761510\n",
      "4  40.384166 -79.859313\n",
      "5  40.408769 -79.904709\n",
      "6  40.540583 -80.182005\n",
      "7  40.464399 -79.966289\n",
      "8  40.407991 -79.943308\n",
      "9  40.432405 -79.893877\n"
     ]
    }
   ],
   "source": [
    "import pandas as pd\n",
    "import geopandas as gpd\n",
    "from shapely.geometry import Point\n",
    "\n",
    "rest_df = pd.read_csv('../../data_cleaned/assets/restaurants.csv')\n",
    "print(\"Number of restaurant:\", len(rest_df))\n",
    "print(rest_df[['latitude', 'longitude']].head(10))"
   ]
  },
  {
   "cell_type": "code",
   "execution_count": null,
   "id": "4ed0d160",
   "metadata": {},
   "outputs": [],
   "source": []
  },
  {
   "cell_type": "code",
   "execution_count": null,
   "id": "15074c5e",
   "metadata": {},
   "outputs": [],
   "source": [
    "def convert(asset_type):\n",
    "    "
   ]
  }
 ],
 "metadata": {
  "kernelspec": {
   "display_name": "Python 3",
   "language": "python",
   "name": "python3"
  },
  "language_info": {
   "codemirror_mode": {
    "name": "ipython",
    "version": 3
   },
   "file_extension": ".py",
   "mimetype": "text/x-python",
   "name": "python",
   "nbconvert_exporter": "python",
   "pygments_lexer": "ipython3",
   "version": "3.12.1"
  }
 },
 "nbformat": 4,
 "nbformat_minor": 5
}
