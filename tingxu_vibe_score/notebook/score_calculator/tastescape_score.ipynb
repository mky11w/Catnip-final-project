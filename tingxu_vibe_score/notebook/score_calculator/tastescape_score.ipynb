{
 "cells": [
  {
   "cell_type": "markdown",
   "id": "9ea7e762",
   "metadata": {},
   "source": [
    "## Tastescape Score\n",
    "\n",
    "- Data Source:\n",
    "  - `restaurants`\n",
    "  - `coffee_shops`\n",
    "  - `supermarkets`"
   ]
  },
  {
   "cell_type": "code",
   "execution_count": 11,
   "id": "73b8632c",
   "metadata": {},
   "outputs": [
    {
     "name": "stdout",
     "output_type": "stream",
     "text": [
      "restaurant:\n",
      "  mean: 20.373333333333335\n",
      "  median: 7.0\n",
      "  max: 245\n",
      "coffee shop:\n",
      "  mean: 3.2962962962962963\n",
      "  median: 2.0\n",
      "  max: 22\n",
      "supermarket:\n",
      "  mean: 1.4545454545454546\n",
      "  median: 1.0\n",
      "  max: 5\n"
     ]
    }
   ],
   "source": [
    "import pandas as pd\n",
    "import numpy as np\n",
    "\n",
    "# restaurants\n",
    "restaurants = pd.read_csv('../../data_cleaned/restaurants.csv')\n",
    "restaurant_count = restaurants['hood'].value_counts()\n",
    "print(\"restaurant:\")\n",
    "print(\"  mean:\", restaurant_count.mean())\n",
    "print(\"  median:\", restaurant_count.median())\n",
    "print(\"  max:\", restaurant_count.max())\n",
    "\n",
    "# coffee shops\n",
    "coffee_shops = pd.read_csv('../../data_cleaned/coffee_shops.csv')\n",
    "coffee_shop_count = coffee_shops['hood'].value_counts()\n",
    "print(\"coffee shop:\")\n",
    "print(\"  mean:\", coffee_shop_count.mean())\n",
    "print(\"  median:\", coffee_shop_count.median())\n",
    "print(\"  max:\", coffee_shop_count.max())\n",
    "\n",
    "# supermarkets\n",
    "supermarkets = pd.read_csv('../../data_cleaned/supermarkets.csv')\n",
    "supermarket_count = supermarkets['hood'].value_counts()\n",
    "print(\"supermarket:\")\n",
    "print(\"  mean:\", supermarket_count.mean())\n",
    "print(\"  median:\", supermarket_count.median())\n",
    "print(\"  max:\", supermarket_count.max())"
   ]
  },
  {
   "cell_type": "markdown",
   "id": "6ffca967",
   "metadata": {},
   "source": [
    "#### Tastescape Score Calculation\n",
    "\n",
    "- According to the number, we find out a good scale of the combination of the amount of restaurants, coffee shops, and supermarkets in the community, that is 7:2:1\n",
    "- The score is calculated as follows:\n",
    "  - `Tastescape Score = (restaurants * 2 + coffee_shops * 7 + supermarkets * 14)`\n",
    "  - We need to normalize the score to 0-100, so we need to find the max and min of the score in the dataset, and calculate the final score"
   ]
  },
  {
   "cell_type": "code",
   "execution_count": 7,
   "id": "ddff0031",
   "metadata": {},
   "outputs": [
    {
     "name": "stdout",
     "output_type": "stream",
     "text": [
      "                        hood  restaurant_count  coffee_shop_count  \\\n",
      "0  Central Business District               245                 22   \n",
      "1           South Side Flats               132                  5   \n",
      "2                 Bloomfield                76                  4   \n",
      "3                North Shore                74                  0   \n",
      "4            Central Oakland                71                  4   \n",
      "5             Strip District                67                  1   \n",
      "6              North Oakland                64                  4   \n",
      "7                  Troy Hill                59                  0   \n",
      "8                  Shadyside                58                 11   \n",
      "9        Squirrel Hill South                58                  7   \n",
      "\n",
      "   supermarket_count  \n",
      "0                  0  \n",
      "1                  1  \n",
      "2                  2  \n",
      "3                  0  \n",
      "4                  0  \n",
      "5                  5  \n",
      "6                  1  \n",
      "7                  0  \n",
      "8                  3  \n",
      "9                  2  \n"
     ]
    }
   ],
   "source": [
    "# create a new dataframe with the counts of each zip code\n",
    "hood_counts = pd.DataFrame({\n",
    "    'hood': restaurant_count.index,\n",
    "    'restaurant_count': restaurant_count.values,\n",
    "    'coffee_shop_count': coffee_shop_count.reindex(restaurant_count.index, fill_value=0).values,\n",
    "    'supermarket_count': supermarket_count.reindex(restaurant_count.index, fill_value=0).values\n",
    "})\n",
    "# print head 10 of the new dataframe\n",
    "print(hood_counts.head(10))"
   ]
  },
  {
   "cell_type": "code",
   "execution_count": 13,
   "id": "4a68bfde",
   "metadata": {},
   "outputs": [
    {
     "name": "stdout",
     "output_type": "stream",
     "text": [
      "                         hood  restaurant_count  coffee_shop_count  \\\n",
      "8                   Shadyside                58                 11   \n",
      "5              Strip District                67                  1   \n",
      "9         Squirrel Hill South                58                  7   \n",
      "2                  Bloomfield                76                  4   \n",
      "0   Central Business District               245                 22   \n",
      "1            South Side Flats               132                  5   \n",
      "6               North Oakland                64                  4   \n",
      "17               East Liberty                24                  1   \n",
      "20        Squirrel Hill North                22                  2   \n",
      "11                    Carrick                31                  0   \n",
      "\n",
      "    supermarket_count     score  \n",
      "8                   3  1.000000  \n",
      "5                   5  0.848940  \n",
      "9                   2  0.842424  \n",
      "2                   2  0.779137  \n",
      "0                   0  0.724625  \n",
      "1                   1  0.703234  \n",
      "6                   1  0.641079  \n",
      "17                  2  0.580292  \n",
      "20                  1  0.511324  \n",
      "11                  2  0.480265  \n",
      "                         hood     score\n",
      "8                   Shadyside  1.000000\n",
      "5              Strip District  0.848940\n",
      "9         Squirrel Hill South  0.842424\n",
      "2                  Bloomfield  0.779137\n",
      "0   Central Business District  0.724625\n",
      "1            South Side Flats  0.703234\n",
      "6               North Oakland  0.641079\n",
      "17               East Liberty  0.580292\n",
      "20        Squirrel Hill North  0.511324\n",
      "11                    Carrick  0.480265\n"
     ]
    }
   ],
   "source": [
    "# calculate the score for each zip code\n",
    "hood_counts['score'] = (np.log1p(hood_counts['restaurant_count']) * 2 +\n",
    "                        np.log1p(hood_counts['coffee_shop_count']) * 7 +\n",
    "                        np.log1p(hood_counts['supermarket_count']) * 14)\n",
    "\n",
    "# normalize the score to be between 0 and 1\n",
    "hood_counts['score'] = (hood_counts['score'] - hood_counts['score'].min()) / (hood_counts['score'].max() - hood_counts['score'].min())\n",
    "# sort the dataframe by score in descending order\n",
    "hood_counts = hood_counts.sort_values(by='score', ascending=False)\n",
    "# print head 10 of the new dataframe\n",
    "print(hood_counts.head(10))\n",
    "\n",
    "# save the new dataframe to a csv file\n",
    "tastescape_scores = hood_counts[['hood', 'score']]\n",
    "print(tastescape_scores.head(10))\n",
    "tastescape_scores.to_csv('../../data_score/tastescape_scores.csv', index=False)"
   ]
  }
 ],
 "metadata": {
  "kernelspec": {
   "display_name": "cs10",
   "language": "python",
   "name": "python3"
  },
  "language_info": {
   "codemirror_mode": {
    "name": "ipython",
    "version": 3
   },
   "file_extension": ".py",
   "mimetype": "text/x-python",
   "name": "python",
   "nbconvert_exporter": "python",
   "pygments_lexer": "ipython3",
   "version": "3.7.16"
  }
 },
 "nbformat": 4,
 "nbformat_minor": 5
}
