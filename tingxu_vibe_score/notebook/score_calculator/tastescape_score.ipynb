{
 "cells": [
  {
   "cell_type": "markdown",
   "id": "9ea7e762",
   "metadata": {},
   "source": [
    "## Tastescape Score\n",
    "\n",
    "- Data Source:\n",
    "  - `restaurants`\n",
    "  - `coffee_shops`\n",
    "  - `supermarkets`"
   ]
  },
  {
   "cell_type": "code",
   "execution_count": 4,
   "id": "73b8632c",
   "metadata": {},
   "outputs": [
    {
     "name": "stdout",
     "output_type": "stream",
     "text": [
      "restaurant:\n",
      "  mean: 35.67272727272727\n",
      "  median: 23.5\n",
      "  max: 246\n",
      "coffee shop:\n",
      "  mean: 3.7083333333333335\n",
      "  median: 3.0\n",
      "  max: 18\n",
      "supermarket:\n",
      "  mean: 2.3793103448275863\n",
      "  median: 2.0\n",
      "  max: 8\n"
     ]
    }
   ],
   "source": [
    "import pandas as pd\n",
    "\n",
    "# restaurants\n",
    "restaurants = pd.read_csv('../../data_cleaned/assets/restaurants.csv')\n",
    "restaurant_count = restaurants['zip_code'].value_counts()\n",
    "print(\"restaurant:\")\n",
    "print(\"  mean:\", restaurant_count.mean())\n",
    "print(\"  median:\", restaurant_count.median())\n",
    "print(\"  max:\", restaurant_count.max())\n",
    "\n",
    "# coffee shops\n",
    "coffee_shops = pd.read_csv('../../data_cleaned/assets/coffee_shops.csv')\n",
    "coffee_shop_count = coffee_shops['zip_code'].value_counts()\n",
    "print(\"coffee shop:\")\n",
    "print(\"  mean:\", coffee_shop_count.mean())\n",
    "print(\"  median:\", coffee_shop_count.median())\n",
    "print(\"  max:\", coffee_shop_count.max())\n",
    "\n",
    "# supermarkets\n",
    "supermarkets = pd.read_csv('../../data_cleaned/assets/supermarkets.csv')\n",
    "supermarket_count = supermarkets['zip_code'].value_counts()\n",
    "print(\"supermarket:\")\n",
    "print(\"  mean:\", supermarket_count.mean())\n",
    "print(\"  median:\", supermarket_count.median())\n",
    "print(\"  max:\", supermarket_count.max())"
   ]
  },
  {
   "cell_type": "markdown",
   "id": "6ffca967",
   "metadata": {},
   "source": [
    "#### Tastescape Score Calculation\n",
    "\n",
    "- According to the number, we find out a good scale of the combination of the amount of restaurants, coffee shops, and supermarkets in the community, that is 30:3:2\n",
    "- The score is calculated as follows:\n",
    "  - `Tastescape Score = (restaurants + coffee_shops * 10 + supermarkets * 5) / 30`\n",
    "  - We need to normalize the score to 0-100, so we need to find the max and min of the score in the dataset, and calculate the final score"
   ]
  },
  {
   "cell_type": "code",
   "execution_count": 5,
   "id": "ddff0031",
   "metadata": {},
   "outputs": [
    {
     "name": "stdout",
     "output_type": "stream",
     "text": [
      "   zip_code  restaurant_count  coffee_shop_count  supermarket_count\n",
      "0     15222               246                 18                  4\n",
      "1     15212               213                  6                  3\n",
      "2     15213               157                 10                  1\n",
      "3     15219               153                  7                  0\n",
      "4     15237               139                  9                  8\n",
      "5     15203               133                  5                  1\n",
      "6     15146               128                  4                  7\n",
      "7     15205               125                  5                  6\n",
      "8     15108               109                  6                  4\n",
      "9     15201                87                  1                  2\n"
     ]
    }
   ],
   "source": [
    "# create a new dataframe with the counts of each zip code\n",
    "zip_code_counts = pd.DataFrame({\n",
    "    'zip_code': restaurant_count.index,\n",
    "    'restaurant_count': restaurant_count.values,\n",
    "    'coffee_shop_count': coffee_shop_count.reindex(restaurant_count.index, fill_value=0).values,\n",
    "    'supermarket_count': supermarket_count.reindex(restaurant_count.index, fill_value=0).values\n",
    "})\n",
    "# print head 10 of the new dataframe\n",
    "print(zip_code_counts.head(10))"
   ]
  },
  {
   "cell_type": "code",
   "execution_count": 6,
   "id": "4a68bfde",
   "metadata": {},
   "outputs": [
    {
     "name": "stdout",
     "output_type": "stream",
     "text": [
      "    zip_code  restaurant_count  coffee_shop_count  supermarket_count     score\n",
      "0      15222               246                 18                  4  1.000000\n",
      "4      15237               139                  9                  8  0.717526\n",
      "1      15212               213                  6                  3  0.653608\n",
      "6      15146               128                  4                  7  0.560825\n",
      "2      15213               157                 10                  1  0.558763\n",
      "7      15205               125                  5                  6  0.544330\n",
      "10     15206                83                 10                  4  0.498969\n",
      "8      15108               109                  6                  4  0.470103\n",
      "12     15217                76                  9                  4  0.463918\n",
      "3      15219               153                  7                  0  0.457732\n",
      "    zip_code     score\n",
      "0      15222  1.000000\n",
      "4      15237  0.717526\n",
      "1      15212  0.653608\n",
      "6      15146  0.560825\n",
      "2      15213  0.558763\n",
      "7      15205  0.544330\n",
      "10     15206  0.498969\n",
      "8      15108  0.470103\n",
      "12     15217  0.463918\n",
      "3      15219  0.457732\n"
     ]
    }
   ],
   "source": [
    "# calculate the score for each zip code\n",
    "zip_code_counts['score'] = (zip_code_counts['restaurant_count'] +\n",
    "                             zip_code_counts['coffee_shop_count'] * 10 +\n",
    "                             zip_code_counts['supermarket_count'] * 15) / 30\n",
    "\n",
    "# normalize the score to be between 0 and 1\n",
    "zip_code_counts['score'] = (zip_code_counts['score'] - zip_code_counts['score'].min()) / (zip_code_counts['score'].max() - zip_code_counts['score'].min())\n",
    "# sort the dataframe by score in descending order\n",
    "zip_code_counts = zip_code_counts.sort_values(by='score', ascending=False)\n",
    "# print head 10 of the new dataframe\n",
    "print(zip_code_counts.head(10))\n",
    "\n",
    "# save the new dataframe to a csv file\n",
    "tastescape_scores = zip_code_counts[['zip_code', 'score']]\n",
    "print(tastescape_scores.head(10))\n",
    "tastescape_scores.to_csv('../../data_score/tastescape_scores.csv', index=False)"
   ]
  }
 ],
 "metadata": {
  "kernelspec": {
   "display_name": "cs10",
   "language": "python",
   "name": "python3"
  },
  "language_info": {
   "codemirror_mode": {
    "name": "ipython",
    "version": 3
   },
   "file_extension": ".py",
   "mimetype": "text/x-python",
   "name": "python",
   "nbconvert_exporter": "python",
   "pygments_lexer": "ipython3",
   "version": "3.7.16"
  }
 },
 "nbformat": 4,
 "nbformat_minor": 5
}
