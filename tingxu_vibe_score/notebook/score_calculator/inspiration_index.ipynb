{
 "cells": [
  {
   "cell_type": "markdown",
   "id": "9ea7e762",
   "metadata": {},
   "source": [
    "## Inspiration Index\n",
    "\n",
    "- Data Source:\n",
    "  - `public_art`\n",
    "  - `museums`\n",
    "  - `libraries`\n",
    "  - `parks_and_facilities`\n",
    "  - `community_nonprofit_orgs`\n",
    "  - `faith-based_facilities`"
   ]
  },
  {
   "cell_type": "code",
   "execution_count": 2,
   "id": "73b8632c",
   "metadata": {},
   "outputs": [
    {
     "name": "stdout",
     "output_type": "stream",
     "text": [
      "public_art:\n",
      "  mean: nan\n",
      "  median: nan\n",
      "  max: nan\n",
      "museums:\n",
      "  mean: nan\n",
      "  median: nan\n",
      "  max: nan\n",
      "libraries:\n",
      "  mean: 1.1363636363636365\n",
      "  median: 1.0\n",
      "  max: 2\n",
      "parks:\n",
      "  mean: nan\n",
      "  median: nan\n",
      "  max: nan\n",
      "nonprofit_orgs:\n",
      "  mean: 50.09340659340659\n",
      "  median: 6.0\n",
      "  max: 1717\n",
      "faith_based:\n",
      "  mean: 9.76595744680851\n",
      "  median: 8.0\n",
      "  max: 36\n"
     ]
    }
   ],
   "source": [
    "import pandas as pd\n",
    "\n",
    "# public art\n",
    "public_art = pd.read_csv('../../data_cleaned/assets/public_art.csv')\n",
    "public_art_count = public_art['zip_code'].value_counts()\n",
    "print(\"public_art:\")\n",
    "print(\"  mean:\", public_art_count.mean())\n",
    "print(\"  median:\", public_art_count.median())\n",
    "print(\"  max:\", public_art_count.max())\n",
    "\n",
    "# museums\n",
    "museums = pd.read_csv('../../data_cleaned/assets/museums.csv')\n",
    "museums_count = museums['zip_code'].value_counts()\n",
    "print(\"museums:\")\n",
    "print(\"  mean:\", museums_count.mean())\n",
    "print(\"  median:\", museums_count.median())\n",
    "print(\"  max:\", museums_count.max())\n",
    "\n",
    "# libraries\n",
    "libraries = pd.read_csv('../../data_cleaned/assets/libraries.csv')\n",
    "libraries_count = libraries['zip_code'].value_counts()\n",
    "print(\"libraries:\")\n",
    "print(\"  mean:\", libraries_count.mean())\n",
    "print(\"  median:\", libraries_count.median())\n",
    "print(\"  max:\", libraries_count.max())\n",
    "\n",
    "# parks\n",
    "parks = pd.read_csv('../../data_cleaned/assets/parks_and_facilities.csv')\n",
    "parks_count = parks['zip_code'].value_counts()\n",
    "print(\"parks:\")\n",
    "print(\"  mean:\", parks_count.mean())\n",
    "print(\"  median:\", parks_count.median())\n",
    "print(\"  max:\", parks_count.max())\n",
    "\n",
    "# nonprofit orgnizations\n",
    "nonprofit_orgs = pd.read_csv('../../data_cleaned/assets/community_nonprofit_orgs.csv')\n",
    "nonprofit_orgs_count = nonprofit_orgs['zip_code'].value_counts()\n",
    "print(\"nonprofit_orgs:\")\n",
    "print(\"  mean:\", nonprofit_orgs_count.mean())\n",
    "print(\"  median:\", nonprofit_orgs_count.median())\n",
    "print(\"  max:\", nonprofit_orgs_count.max())\n",
    "\n",
    "# faith-based facilities\n",
    "faith_based = pd.read_csv('../../data_cleaned/assets/faith-based_facilities.csv')\n",
    "faith_based_count = faith_based['zip_code'].value_counts()\n",
    "print(\"faith_based:\")\n",
    "print(\"  mean:\", faith_based_count.mean())\n",
    "print(\"  median:\", faith_based_count.median())\n",
    "print(\"  max:\", faith_based_count.max())"
   ]
  },
  {
   "cell_type": "markdown",
   "id": "6ffca967",
   "metadata": {},
   "source": [
    "#### Inspiration Index Calculation\n",
    "\n",
    "- According to the number, we find out a good scale of the combination of the amount of libraries, nonprofit organizations, and faith-based facilities in the community, that is 1:64:8\n",
    "- The score is calculated as follows:\n",
    "  - `Tastescape Score = (Libraries * 64 + Nonprofit Organizations + Faith-based Facilities * 8)`\n",
    "  - We need to normalize the score to 0-100, so we need to find the max and min of the score in the dataset, and calculate the final score"
   ]
  },
  {
   "cell_type": "code",
   "execution_count": 5,
   "id": "ddff0031",
   "metadata": {},
   "outputs": [
    {
     "name": "stdout",
     "output_type": "stream",
     "text": [
      "   zip_code  libraries_count  nonprofit_orgs_count  faith_based_count\n",
      "0     15210                2                    68                 21\n",
      "1     15212                2                  1717                 36\n",
      "2     15213                2                   178                 28\n",
      "3     15101                1                   101                 11\n",
      "4     15217                1                   196                 24\n",
      "5     15204                1                    25                  7\n",
      "6     15203                1                   108                 10\n",
      "7     15106                1                   106                 17\n",
      "8     15211                1                    38                  7\n",
      "9     15241                1                   111                 11\n"
     ]
    }
   ],
   "source": [
    "# create a new dataframe with the counts of each zip code\n",
    "zip_code_counts = pd.DataFrame({\n",
    "    'zip_code': libraries_count.index,\n",
    "    'libraries_count': libraries_count.values,\n",
    "    'nonprofit_orgs_count': nonprofit_orgs_count.reindex(libraries_count.index, fill_value=0).values,\n",
    "    'faith_based_count': faith_based_count.reindex(libraries_count.index, fill_value=0).values,\n",
    "})\n",
    "# print head 10 of the new dataframe\n",
    "print(zip_code_counts.head(10))"
   ]
  },
  {
   "cell_type": "code",
   "execution_count": 21,
   "id": "4a68bfde",
   "metadata": {},
   "outputs": [
    {
     "name": "stdout",
     "output_type": "stream",
     "text": [
      "    zip_code  libraries_count  nonprofit_orgs_count  faith_based_count  score\n",
      "1      15212                2                  1717                 36    616\n",
      "13     15219                1                   418                 35    544\n",
      "2      15213                2                   178                 28    530\n",
      "17     15206                1                   220                 29    496\n",
      "4      15217                1                   196                 24    452\n",
      "16     15222                1                   501                 13    368\n",
      "0      15210                2                    68                 21    364\n",
      "11     15208                1                    78                 25    342\n",
      "21     15220                1                   122                 17    322\n",
      "7      15106                1                   106                 17    306\n",
      "    zip_code     score\n",
      "1      15212  1.000000\n",
      "13     15219  0.847134\n",
      "2      15213  0.817410\n",
      "17     15206  0.745223\n",
      "4      15217  0.651805\n",
      "16     15222  0.473461\n",
      "0      15210  0.464968\n",
      "11     15208  0.418259\n",
      "21     15220  0.375796\n",
      "7      15106  0.341826\n"
     ]
    }
   ],
   "source": [
    "# calculate the score for each zip code\n",
    "zip_code_counts['score'] = (zip_code_counts['libraries_count'] * 64 +\n",
    "                            zip_code_counts['nonprofit_orgs_count'].clip(upper=200) * 1 +\n",
    "                            zip_code_counts['faith_based_count'] * 8)\n",
    "\n",
    "zip_code_counts = zip_code_counts.sort_values(by='score', ascending=False)\n",
    "# print head 10 of the new dataframe\n",
    "\n",
    "print(zip_code_counts.head(10))\n",
    "# normalize the score to be between 0 and 1\n",
    "zip_code_counts['score'] = (zip_code_counts['score'] - zip_code_counts['score'].min()) / (zip_code_counts['score'].max() - zip_code_counts['score'].min())\n",
    "# sort the dataframe by score in descending order\n",
    "# save the new dataframe to a csv file\n",
    "tastescape_scores = zip_code_counts[['zip_code', 'score']]\n",
    "print(tastescape_scores.head(10))\n",
    "tastescape_scores.to_csv('../../data_score/inspiration_index.csv', index=False)"
   ]
  }
 ],
 "metadata": {
  "kernelspec": {
   "display_name": "cs10",
   "language": "python",
   "name": "python3"
  },
  "language_info": {
   "codemirror_mode": {
    "name": "ipython",
    "version": 3
   },
   "file_extension": ".py",
   "mimetype": "text/x-python",
   "name": "python",
   "nbconvert_exporter": "python",
   "pygments_lexer": "ipython3",
   "version": "3.7.16"
  }
 },
 "nbformat": 4,
 "nbformat_minor": 5
}
