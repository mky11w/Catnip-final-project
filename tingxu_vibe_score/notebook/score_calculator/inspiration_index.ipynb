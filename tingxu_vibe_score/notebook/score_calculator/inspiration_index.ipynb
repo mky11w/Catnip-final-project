{
 "cells": [
  {
   "cell_type": "markdown",
   "id": "9ea7e762",
   "metadata": {},
   "source": [
    "## Inspiration Index\n",
    "\n",
    "- Data Source:\n",
    "  - `public_art`\n",
    "  - `museums`\n",
    "  - `libraries`\n",
    "  - `parks_and_facilities`\n",
    "  - `community_nonprofit_orgs`\n",
    "  - `faith-based_facilities`"
   ]
  },
  {
   "cell_type": "code",
   "execution_count": 2,
   "id": "73b8632c",
   "metadata": {},
   "outputs": [
    {
     "name": "stdout",
     "output_type": "stream",
     "text": [
      "public_art:\n",
      "  mean: nan\n",
      "  median: nan\n",
      "  max: nan\n",
      "museums:\n",
      "  mean: nan\n",
      "  median: nan\n",
      "  max: nan\n",
      "libraries:\n",
      "  mean: 1.1363636363636365\n",
      "  median: 1.0\n",
      "  max: 2\n",
      "parks:\n",
      "  mean: nan\n",
      "  median: nan\n",
      "  max: nan\n",
      "nonprofit_orgs:\n",
      "  mean: 50.09340659340659\n",
      "  median: 6.0\n",
      "  max: 1717\n",
      "faith_based:\n",
      "  mean: 9.76595744680851\n",
      "  median: 8.0\n",
      "  max: 36\n"
     ]
    }
   ],
   "source": [
    "import pandas as pd\n",
    "\n",
    "# public art\n",
    "public_art = pd.read_csv('../../data_cleaned/assets/public_art.csv')\n",
    "public_art_count = public_art['zip_code'].value_counts()\n",
    "print(\"public_art:\")\n",
    "print(\"  mean:\", public_art_count.mean())\n",
    "print(\"  median:\", public_art_count.median())\n",
    "print(\"  max:\", public_art_count.max())\n",
    "\n",
    "# museums\n",
    "museums = pd.read_csv('../../data_cleaned/assets/museums.csv')\n",
    "museums_count = museums['zip_code'].value_counts()\n",
    "print(\"museums:\")\n",
    "print(\"  mean:\", museums_count.mean())\n",
    "print(\"  median:\", museums_count.median())\n",
    "print(\"  max:\", museums_count.max())\n",
    "\n",
    "# libraries\n",
    "libraries = pd.read_csv('../../data_cleaned/assets/libraries.csv')\n",
    "libraries_count = libraries['zip_code'].value_counts()\n",
    "print(\"libraries:\")\n",
    "print(\"  mean:\", libraries_count.mean())\n",
    "print(\"  median:\", libraries_count.median())\n",
    "print(\"  max:\", libraries_count.max())\n",
    "\n",
    "# parks\n",
    "parks = pd.read_csv('../../data_cleaned/assets/parks_and_facilities.csv')\n",
    "parks_count = parks['zip_code'].value_counts()\n",
    "print(\"parks:\")\n",
    "print(\"  mean:\", parks_count.mean())\n",
    "print(\"  median:\", parks_count.median())\n",
    "print(\"  max:\", parks_count.max())\n",
    "\n",
    "# nonprofit orgnizations\n",
    "nonprofit_orgs = pd.read_csv('../../data_cleaned/assets/community_nonprofit_orgs.csv')\n",
    "nonprofit_orgs_count = nonprofit_orgs['zip_code'].value_counts()\n",
    "print(\"nonprofit_orgs:\")\n",
    "print(\"  mean:\", nonprofit_orgs_count.mean())\n",
    "print(\"  median:\", nonprofit_orgs_count.median())\n",
    "print(\"  max:\", nonprofit_orgs_count.max())\n",
    "\n",
    "# faith-based facilities\n",
    "faith_based = pd.read_csv('../../data_cleaned/assets/faith-based_facilities.csv')\n",
    "faith_based_count = faith_based['zip_code'].value_counts()\n",
    "print(\"faith_based:\")\n",
    "print(\"  mean:\", faith_based_count.mean())\n",
    "print(\"  median:\", faith_based_count.median())\n",
    "print(\"  max:\", faith_based_count.max())"
   ]
  },
  {
   "cell_type": "markdown",
   "id": "6ffca967",
   "metadata": {},
   "source": [
    "#### Tastescape Score Calculation\n",
    "\n",
    "- According to the number, we find out a good scale of the combination of the amount of restaurants, coffee shops, and supermarkets in the community, that is 30:3:2\n",
    "- The score is calculated as follows:\n",
    "  - `Tastescape Score = (restaurants + coffee_shops * 10 + supermarkets * 5) / 30`\n",
    "  - We need to normalize the score to 0-100, so we need to find the max and min of the score in the dataset, and calculate the final score"
   ]
  },
  {
   "cell_type": "code",
   "execution_count": 3,
   "id": "ddff0031",
   "metadata": {},
   "outputs": [
    {
     "ename": "NameError",
     "evalue": "name 'restaurant_count' is not defined",
     "output_type": "error",
     "traceback": [
      "\u001b[1;31m---------------------------------------------------------------------------\u001b[0m",
      "\u001b[1;31mNameError\u001b[0m                                 Traceback (most recent call last)",
      "\u001b[1;32m~\\AppData\\Local\\Temp\\ipykernel_5072\\309758254.py\u001b[0m in \u001b[0;36m<module>\u001b[1;34m\u001b[0m\n\u001b[0;32m      1\u001b[0m \u001b[1;31m# create a new dataframe with the counts of each zip code\u001b[0m\u001b[1;33m\u001b[0m\u001b[1;33m\u001b[0m\u001b[1;33m\u001b[0m\u001b[0m\n\u001b[0;32m      2\u001b[0m zip_code_counts = pd.DataFrame({\n\u001b[1;32m----> 3\u001b[1;33m     \u001b[1;34m'zip_code'\u001b[0m\u001b[1;33m:\u001b[0m \u001b[0mrestaurant_count\u001b[0m\u001b[1;33m.\u001b[0m\u001b[0mindex\u001b[0m\u001b[1;33m,\u001b[0m\u001b[1;33m\u001b[0m\u001b[1;33m\u001b[0m\u001b[0m\n\u001b[0m\u001b[0;32m      4\u001b[0m     \u001b[1;34m'restaurant_count'\u001b[0m\u001b[1;33m:\u001b[0m \u001b[0mrestaurant_count\u001b[0m\u001b[1;33m.\u001b[0m\u001b[0mvalues\u001b[0m\u001b[1;33m,\u001b[0m\u001b[1;33m\u001b[0m\u001b[1;33m\u001b[0m\u001b[0m\n\u001b[0;32m      5\u001b[0m     \u001b[1;34m'coffee_shop_count'\u001b[0m\u001b[1;33m:\u001b[0m \u001b[0mcoffee_shop_count\u001b[0m\u001b[1;33m.\u001b[0m\u001b[0mreindex\u001b[0m\u001b[1;33m(\u001b[0m\u001b[0mrestaurant_count\u001b[0m\u001b[1;33m.\u001b[0m\u001b[0mindex\u001b[0m\u001b[1;33m,\u001b[0m \u001b[0mfill_value\u001b[0m\u001b[1;33m=\u001b[0m\u001b[1;36m0\u001b[0m\u001b[1;33m)\u001b[0m\u001b[1;33m.\u001b[0m\u001b[0mvalues\u001b[0m\u001b[1;33m,\u001b[0m\u001b[1;33m\u001b[0m\u001b[1;33m\u001b[0m\u001b[0m\n",
      "\u001b[1;31mNameError\u001b[0m: name 'restaurant_count' is not defined"
     ]
    }
   ],
   "source": [
    "# create a new dataframe with the counts of each zip code\n",
    "zip_code_counts = pd.DataFrame({\n",
    "    'zip_code': restaurant_count.index,\n",
    "    'restaurant_count': restaurant_count.values,\n",
    "    'coffee_shop_count': coffee_shop_count.reindex(restaurant_count.index, fill_value=0).values,\n",
    "    'supermarket_count': supermarket_count.reindex(restaurant_count.index, fill_value=0).values\n",
    "})\n",
    "# print head 10 of the new dataframe\n",
    "print(zip_code_counts.head(10))"
   ]
  },
  {
   "cell_type": "code",
   "execution_count": null,
   "id": "4a68bfde",
   "metadata": {},
   "outputs": [
    {
     "name": "stdout",
     "output_type": "stream",
     "text": [
      "    zip_code  restaurant_count  coffee_shop_count  supermarket_count     score\n",
      "0      15222               246                 18                  4  1.000000\n",
      "4      15237               139                  9                  8  0.717526\n",
      "1      15212               213                  6                  3  0.653608\n",
      "2      15213               157                 10                  1  0.558763\n",
      "6      15146               127                  4                  7  0.558763\n",
      "7      15205               125                  5                  6  0.544330\n",
      "10     15206                83                 10                  4  0.498969\n",
      "8      15108               109                  6                  4  0.470103\n",
      "12     15217                76                  9                  4  0.463918\n",
      "3      15219               153                  7                  0  0.457732\n",
      "    zip_code     score\n",
      "0      15222  1.000000\n",
      "4      15237  0.717526\n",
      "1      15212  0.653608\n",
      "2      15213  0.558763\n",
      "6      15146  0.558763\n",
      "7      15205  0.544330\n",
      "10     15206  0.498969\n",
      "8      15108  0.470103\n",
      "12     15217  0.463918\n",
      "3      15219  0.457732\n"
     ]
    }
   ],
   "source": [
    "# calculate the score for each zip code\n",
    "zip_code_counts['score'] = (zip_code_counts['restaurant_count'] +\n",
    "                             zip_code_counts['coffee_shop_count'] * 10 +\n",
    "                             zip_code_counts['supermarket_count'] * 15) / 30\n",
    "\n",
    "# normalize the score to be between 0 and 1\n",
    "zip_code_counts['score'] = (zip_code_counts['score'] - zip_code_counts['score'].min()) / (zip_code_counts['score'].max() - zip_code_counts['score'].min())\n",
    "# sort the dataframe by score in descending order\n",
    "zip_code_counts = zip_code_counts.sort_values(by='score', ascending=False)\n",
    "# print head 10 of the new dataframe\n",
    "print(zip_code_counts.head(10))\n",
    "\n",
    "# save the new dataframe to a csv file\n",
    "tastescape_scores = zip_code_counts[['zip_code', 'score']]\n",
    "print(tastescape_scores.head(10))\n",
    "tastescape_scores.to_csv('../../data_score/tastescape_scores.csv', index=False)"
   ]
  }
 ],
 "metadata": {
  "kernelspec": {
   "display_name": "cs10",
   "language": "python",
   "name": "python3"
  },
  "language_info": {
   "codemirror_mode": {
    "name": "ipython",
    "version": 3
   },
   "file_extension": ".py",
   "mimetype": "text/x-python",
   "name": "python",
   "nbconvert_exporter": "python",
   "pygments_lexer": "ipython3",
   "version": "3.7.16"
  }
 },
 "nbformat": 4,
 "nbformat_minor": 5
}
