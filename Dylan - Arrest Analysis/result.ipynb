{
 "cells": [
  {
   "cell_type": "code",
   "execution_count": 22,
   "metadata": {},
   "outputs": [],
   "source": [
    "# in wprdc there are 66485 entries, but somehow the ArrestData.csv only has 32001 entries, so i retrieved again using the API \n",
    "# to make sure that we have all the updated data\n",
    "import requests\n",
    "import pandas as pd\n",
    "\n",
    "base_url = \"https://data.wprdc.org/api/3/action/datastore_search\"\n",
    "resource_id = \"e03a89dd-134a-4ee8-a2bd-62c40aeebc6f\"\n",
    "limit = 1000\n",
    "offset = 0\n",
    "all_records = []\n",
    "\n",
    "while True:\n",
    "    params = {\n",
    "        \"resource_id\": resource_id,\n",
    "        \"limit\": limit,\n",
    "        \"offset\": offset\n",
    "    }\n",
    "    response = requests.get(base_url, params=params)\n",
    "    data = response.json()\n",
    "    records = data[\"result\"][\"records\"]\n",
    "    if not records:\n",
    "        break\n",
    "    all_records.extend(records)\n",
    "    offset += limit\n",
    "\n",
    "df = pd.DataFrame(all_records)\n"
   ]
  },
  {
   "cell_type": "code",
   "execution_count": 2,
   "metadata": {},
   "outputs": [
    {
     "name": "stdout",
     "output_type": "stream",
     "text": [
      "    INCIDENTNEIGHBORHOOD  YEAR  ARREST_COUNT\n",
      "0       Allegheny Center  2016            82\n",
      "1       Allegheny Center  2017           216\n",
      "2       Allegheny Center  2018           161\n",
      "3       Allegheny Center  2019           239\n",
      "4       Allegheny Center  2020           155\n",
      "..                   ...   ...           ...\n",
      "784              Windgap  2019            15\n",
      "785              Windgap  2020            17\n",
      "786              Windgap  2021            13\n",
      "787              Windgap  2022            20\n",
      "788              Windgap  2023            13\n",
      "\n",
      "[789 rows x 3 columns]\n"
     ]
    }
   ],
   "source": [
    "# group by year by neighborhood\n",
    "import pandas as pd\n",
    "\n",
    "df = pd.read_csv(\"ArrestData_updated.csv\", parse_dates=[\"ARRESTTIME\"])\n",
    "df[\"YEAR\"] = df[\"ARRESTTIME\"].dt.year\n",
    "summary = df.groupby([\"INCIDENTNEIGHBORHOOD\", \"YEAR\"]).size().reset_index(name=\"ARREST_COUNT\")\n",
    "summary = summary.sort_values(by=[\"INCIDENTNEIGHBORHOOD\", \"YEAR\"])\n",
    "summary.to_csv(\"cleaned_arrested.csv\")\n",
    "print(summary)"
   ]
  },
  {
   "cell_type": "code",
   "execution_count": 3,
   "metadata": {},
   "outputs": [
    {
     "name": "stdout",
     "output_type": "stream",
     "text": [
      "                 Neighborhood  Spearman_rho  p_value  Years of data  \\\n",
      "16  Central Business District         0.584   0.0765             10   \n",
      "15                    Carrick         0.532   0.0920             11   \n",
      "14       California-Kirkbride         0.502   0.1397             10   \n",
      "7                   Beechview         0.491   0.1252             11   \n",
      "70                  Ridgemont         0.439   0.2763              8   \n",
      "18         Central North Side         0.406   0.2443             10   \n",
      "28               East Liberty         0.401   0.2505             10   \n",
      "75           South Side Flats         0.401   0.2505             10   \n",
      "93                    Windgap         0.361   0.3393              9   \n",
      "88                 Upper Hill         0.333   0.3466             10   \n",
      "\n",
      "    check_pval  \n",
      "16       False  \n",
      "15       False  \n",
      "14       False  \n",
      "7        False  \n",
      "70       False  \n",
      "18       False  \n",
      "28       False  \n",
      "75       False  \n",
      "93       False  \n",
      "88       False  \n"
     ]
    }
   ],
   "source": [
    "# i tried to calculate the correlation but got high p-values, showing that the result is not statistically significant, so i \n",
    "# switch to calculate the total counts, and assign acores for each neighborhoods.\n",
    "from scipy.stats import spearmanr\n",
    "\n",
    "results = []\n",
    "\n",
    "for hood in summary[\"INCIDENTNEIGHBORHOOD\"].unique():\n",
    "    sub_df = summary[summary[\"INCIDENTNEIGHBORHOOD\"] == hood]\n",
    "\n",
    "    if len(sub_df) >= 4:\n",
    "        rho, p = spearmanr(sub_df[\"YEAR\"], sub_df[\"ARREST_COUNT\"])\n",
    "        results.append({\n",
    "            \"Neighborhood\": hood,\n",
    "            \"Spearman_rho\": round(rho, 3),\n",
    "            \"p_value\": round(p, 4),\n",
    "            \"Years of data\": len(sub_df)\n",
    "        })\n",
    "\n",
    "spearman_df = pd.DataFrame(results).sort_values(by=\"Spearman_rho\", ascending=False)\n",
    "spearman_df[\"check_pval\"] = spearman_df[\"p_value\"]<0.05\n",
    "spearman_df.to_csv(\"see.csv\")\n",
    "print(spearman_df.head(10)) \n",
    "\n",
    "\n"
   ]
  },
  {
   "cell_type": "code",
   "execution_count": 4,
   "metadata": {},
   "outputs": [
    {
     "name": "stdout",
     "output_type": "stream",
     "text": [
      "         INCIDENTNEIGHBORHOOD  ARREST_COUNT      score\n",
      "57    Mt. Oliver Neighborhood             2  99.969916\n",
      "91     Troy Hill-Herrs Island             6  99.909747\n",
      "56            Mt. Oliver Boro            18  99.729242\n",
      "19          Central Northside            23  99.654031\n",
      "72              Regent Square            37  99.443442\n",
      "..                        ...           ...        ...\n",
      "43             Homewood South          2090  68.561974\n",
      "26             East Allegheny          2217  66.651625\n",
      "15                    Carrick          2352  64.620939\n",
      "78           South Side Flats          3497  47.397714\n",
      "16  Central Business District          4440  33.212996\n",
      "\n",
      "[98 rows x 3 columns]\n"
     ]
    }
   ],
   "source": [
    "# here's the score!\n",
    "result = df.groupby(\"INCIDENTNEIGHBORHOOD\").size().reset_index(name=\"ARREST_COUNT\")\n",
    "result[\"score\"] = ((6648-result[\"ARREST_COUNT\"])/6648)*100\n",
    "result = result.sort_values(by=\"score\", ascending=False)\n",
    "\n",
    "print(result)\n"
   ]
  },
  {
   "cell_type": "code",
   "execution_count": null,
   "metadata": {},
   "outputs": [],
   "source": [
    "# somehow we got 97 neighborhoods...This is a REALLY messy dataset...\n",
    "mine=pd.read_csv(\"/Users/mkay11/Catnip-final-project-1/Makayla - 311 data analysis/311_counts_by_neighborhood.csv\")\n",
    "array1 = mine[\"hood\"].unique()"
   ]
  },
  {
   "cell_type": "code",
   "execution_count": 6,
   "metadata": {},
   "outputs": [],
   "source": [
    "this = pd.read_csv(\"cleaned_arrested.csv\")\n",
    "array2 = this[\"INCIDENTNEIGHBORHOOD\"].unique()\n"
   ]
  },
  {
   "cell_type": "code",
   "execution_count": 7,
   "metadata": {},
   "outputs": [
    {
     "name": "stdout",
     "output_type": "stream",
     "text": [
      "In array2 but not array1: ['Central North Side' 'Chartiers City' 'Friendship'\n",
      " 'Golden Triangle/Civic Arena' 'Mount Oliver' 'Mt. Oliver Boro'\n",
      " 'Mt. Oliver Neighborhood' 'Outside City' 'Outside County' 'Outside State'\n",
      " 'Troy Hill-Herrs Island']\n"
     ]
    }
   ],
   "source": [
    "# Got super weird names...What in the world is \"Friendship\" doing here?\n",
    "import numpy as np\n",
    "diff2 = np.setdiff1d(array2, array1)\n",
    "print(\"In array2 but not array1:\", diff2)\n"
   ]
  },
  {
   "cell_type": "code",
   "execution_count": 8,
   "metadata": {},
   "outputs": [
    {
     "name": "stdout",
     "output_type": "stream",
     "text": [
      "In array1 but not array2: ['Mt. Oliver']\n"
     ]
    }
   ],
   "source": [
    "diff1 = np.setdiff1d(array1, array2)\n",
    "print(\"In array1 but not array2:\", diff1)"
   ]
  },
  {
   "cell_type": "code",
   "execution_count": 9,
   "metadata": {},
   "outputs": [],
   "source": [
    "# merge all Mt.Oliver, drop other names\n",
    "neighborhoods_to_drop = [\n",
    "    \"Central North Side\", \"Chartiers City\", \"Friendship\",\n",
    "    \"Golden Triangle/Civic Arena\", \"Outside City\", \"Outside County\",\n",
    "    \"Outside State\", \"Troy Hill-Herrs Island\"\n",
    "]\n",
    "result = result[~result[\"INCIDENTNEIGHBORHOOD\"].isin(neighborhoods_to_drop)].copy()\n",
    "name_map = {\n",
    "    \"Mount Oliver\": \"Mt. Oliver\",\n",
    "    \"Mt. Oliver Boro\": \"Mt. Oliver\",\n",
    "    \"Mt. Oliver Neighborhood\": \"Mt. Oliver\",\n",
    "}\n",
    "result[\"INCIDENTNEIGHBORHOOD\"] = result[\"INCIDENTNEIGHBORHOOD\"].replace(name_map)\n",
    "\n",
    "\n",
    "\n",
    "\n",
    "\n"
   ]
  },
  {
   "cell_type": "code",
   "execution_count": null,
   "metadata": {},
   "outputs": [
    {
     "name": "stdout",
     "output_type": "stream",
     "text": [
      "         INCIDENTNEIGHBORHOOD  ARREST_COUNT      score\n",
      "18          Central Northside            23  99.654031\n",
      "64                  Ridgemont            37  99.443442\n",
      "63              Regent Square            37  99.443442\n",
      "52              New Homestead            39  99.413357\n",
      "79             Swisshelm Park            43  99.353189\n",
      "..                        ...           ...        ...\n",
      "39             Homewood South          2090  68.561974\n",
      "24             East Allegheny          2217  66.651625\n",
      "15                    Carrick          2352  64.620939\n",
      "69           South Side Flats          3497  47.397714\n",
      "16  Central Business District          4440  33.212996\n",
      "\n",
      "[88 rows x 3 columns]\n"
     ]
    }
   ],
   "source": [
    "# recalculating for Mt.Oliver\n",
    "result = result.groupby(\"INCIDENTNEIGHBORHOOD\", as_index=False).agg({\n",
    "    \"ARREST_COUNT\": \"sum\"\n",
    "})\n",
    "result[\"score\"] = ((6648 - result[\"ARREST_COUNT\"]) / 6648) * 100\n",
    "\n",
    "result = result.sort_values(by=\"score\",ascending=False)\n",
    "result.to_csv(\"result.csv\")\n",
    "\n",
    "print(result)"
   ]
  }
 ],
 "metadata": {
  "kernelspec": {
   "display_name": "Python 3",
   "language": "python",
   "name": "python3"
  },
  "language_info": {
   "codemirror_mode": {
    "name": "ipython",
    "version": 3
   },
   "file_extension": ".py",
   "mimetype": "text/x-python",
   "name": "python",
   "nbconvert_exporter": "python",
   "pygments_lexer": "ipython3",
   "version": "3.12.6"
  }
 },
 "nbformat": 4,
 "nbformat_minor": 2
}
